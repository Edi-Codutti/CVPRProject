{
 "cells": [
  {
   "cell_type": "markdown",
   "metadata": {
    "id": "tzB1bMlRatfs"
   },
   "source": [
    "### Libraries\n",
    "Besides [Numpy](https://numpy.org/) and the Pyplot interface to [Matplotlib](https://matplotlib.org/), we will need [OpenCV](https://opencv.org/)."
   ]
  },
  {
   "cell_type": "code",
   "execution_count": 106,
   "metadata": {
    "colab": {
     "base_uri": "https://localhost:8080/"
    },
    "executionInfo": {
     "elapsed": 642,
     "status": "ok",
     "timestamp": 1729844600667,
     "user": {
      "displayName": "FELICE ANDREA PELLEGRINO",
      "userId": "15671707976733738277"
     },
     "user_tz": -120
    },
    "id": "IzDFnKL6V3SN",
    "outputId": "67a7cec0-c5a7-4c3d-8889-886bf2b9922e"
   },
   "outputs": [],
   "source": [
    "from matplotlib import pyplot as plt\n",
    "import os\n",
    "import numpy as np\n",
    "import cv2 # OpenCV"
   ]
  },
  {
   "cell_type": "code",
   "execution_count": 107,
   "metadata": {
    "colab": {
     "base_uri": "https://localhost:8080/"
    },
    "executionInfo": {
     "elapsed": 35359,
     "status": "ok",
     "timestamp": 1729844636025,
     "user": {
      "displayName": "FELICE ANDREA PELLEGRINO",
      "userId": "15671707976733738277"
     },
     "user_tz": -120
    },
    "id": "BqPIcN-4GgeT",
    "outputId": "e382fe39-b90c-4868-e699-fd3dd6df7ff8"
   },
   "outputs": [],
   "source": [
    "folderpath = './images'"
   ]
  },
  {
   "cell_type": "markdown",
   "metadata": {},
   "source": [
    "1. Calcolare omografia per ogni immagine e c'è già la funzione di Edi"
   ]
  },
  {
   "cell_type": "code",
   "execution_count": 108,
   "metadata": {},
   "outputs": [],
   "source": [
    "grid_size = (8,11)\n",
    "def calculate_homography(image)->tuple[np.ndarray, np.ndarray, np.ndarray]:\n",
    "    return_value, corners = cv2.findChessboardCorners(image, patternSize=grid_size)\n",
    "    assert(return_value)\n",
    "    gray = cv2.cvtColor(image.copy(), cv2.COLOR_BGR2GRAY)\n",
    "    corners = corners.reshape((88,2)).copy()\n",
    "    criteria = (cv2.TERM_CRITERIA_MAX_ITER | cv2.TERM_CRITERIA_EPS, 100, 0.001)\n",
    "    cv2.cornerSubPix(gray, corners, (5,5), (-1,-1), criteria)\n",
    "    A = np.empty((0,9), dtype=float)\n",
    "    O = np.array([0,0,0]).reshape(1,3)\n",
    "    square_size = 11/1000 # meters\n",
    "    real_coords = []\n",
    "    pix_coords = []\n",
    "    for index, corner in enumerate(corners):\n",
    "        Xpix = corner[0] # in pixel\n",
    "        Ypix = corner[1]\n",
    "        pix_coords.append(np.array([Xpix, Ypix]))\n",
    "        grid_size_cv2 = tuple(reversed(grid_size)) # OpenCV and Python store matrices differently\n",
    "        u_index, v_index = np.unravel_index(index, grid_size_cv2) # convert index from linear to 2D (0-based indexing)\n",
    "        Xmm = u_index * square_size\n",
    "        Ymm = v_index * square_size\n",
    "        real_coords.append(np.array([Xmm, Ymm, 0, 1]))\n",
    "        m = np.array([Xmm, Ymm, 1]).reshape(1,3)\n",
    "        A = np.vstack((A, np.hstack((m,O,-Xpix*m))))\n",
    "        A = np.vstack((A, np.hstack((O,m,-Ypix*m))))\n",
    "\n",
    "    _, _, Vh = np.linalg.svd(A)\n",
    "    h = Vh.transpose()[:,-1]\n",
    "    H = h.reshape(3,3)\n",
    "    return H, np.array(real_coords), np.array(pix_coords)"
   ]
  },
  {
   "cell_type": "code",
   "execution_count": 109,
   "metadata": {},
   "outputs": [],
   "source": [
    "images_path = [os.path.join(folderpath, imagename) for imagename in os.listdir(folderpath) if imagename.endswith(\".tiff\")]\n",
    "images_path.sort()"
   ]
  },
  {
   "cell_type": "code",
   "execution_count": 110,
   "metadata": {},
   "outputs": [],
   "source": [
    "HH = []\n",
    "for path in images_path:\n",
    "    image = cv2.imread(path)\n",
    "    H, _, _ = calculate_homography(image)\n",
    "    HH.append(H)"
   ]
  },
  {
   "cell_type": "markdown",
   "metadata": {},
   "source": [
    "2. per ogni omografia dalla relativa matrice costruire la matrice V + fare funzione che costruisce i vettori v, i, j"
   ]
  },
  {
   "cell_type": "code",
   "execution_count": 111,
   "metadata": {},
   "outputs": [],
   "source": [
    "def vij_function (H, i, j):\n",
    "  v=np.zeros(6)\n",
    "  v[0]=H[0][i]*H[0][j]\n",
    "  v[1]=H[0][i]*H[1][j]+H[1][i]*H[0][j]\n",
    "  v[2]=H[1][i]*H[1][j]\n",
    "  v[3]=H[2][i]*H[0][j]+H[0][i]*H[2][j]\n",
    "  v[4]=H[2][i]*H[1][j]+H[1][i]*H[2][j]\n",
    "  v[5]=H[2][i]*H[2][j]\n",
    "  return v"
   ]
  },
  {
   "cell_type": "code",
   "execution_count": 112,
   "metadata": {},
   "outputs": [],
   "source": [
    "VV=np.zeros((0,6))\n",
    "\n",
    "for H in HH:\n",
    "  v11=vij_function(H, 0, 0)\n",
    "  v12=vij_function(H, 0, 1)\n",
    "  v22=vij_function(H, 1, 1)\n",
    "  V=np.array([v12.T, (v11-v22).T])\n",
    "  VV=np.vstack((VV, V))"
   ]
  },
  {
   "cell_type": "markdown",
   "metadata": {},
   "source": [
    "3. data V trovare B applicando la singular value decomposition"
   ]
  },
  {
   "cell_type": "code",
   "execution_count": 113,
   "metadata": {},
   "outputs": [
    {
     "name": "stdout",
     "output_type": "stream",
     "text": [
      "[[-2.66202724e-07  1.59809311e-10  1.68223842e-04]\n",
      " [ 1.59809311e-10 -2.65953699e-07  1.32339922e-04]\n",
      " [ 1.68223842e-04  1.32339922e-04 -9.99999977e-01]]\n",
      "[-1.00000002e+00 -2.66204763e-07 -2.20138534e-07]\n"
     ]
    }
   ],
   "source": [
    "U, Sigma, S_T = np.linalg.svd(VV)\n",
    "b = S_T.transpose()[:, -1]\n",
    "B = np.empty((3, 3))\n",
    "B[0, 0] = b[0]\n",
    "B[0, 1] = B[1, 0] = b[1]\n",
    "B[1, 1] = b[2]\n",
    "B[0, 2] = B[2, 0] = b[3]\n",
    "B[2, 1] = B[1, 2] = b[4]\n",
    "B[2, 2] = b[5]\n",
    "print(B)\n",
    "eigvals, _ = np.linalg.eigh(B)\n",
    "print(eigvals)"
   ]
  },
  {
   "cell_type": "markdown",
   "metadata": {},
   "source": [
    "4. da B ottenere K e di conseguenza trovare R"
   ]
  },
  {
   "cell_type": "code",
   "execution_count": 114,
   "metadata": {},
   "outputs": [],
   "source": [
    "def calculate_projection_matrix(H:np.ndarray, K:np.ndarray)->np.ndarray:\n",
    "    K_inv = np.linalg.inv(K)\n",
    "    h1 = H[0, :]\n",
    "    h2 = H[1, :]\n",
    "    h3 = H[2, :]\n",
    "    lambdas = 1/np.linalg.norm(K_inv@h1)\n",
    "    r1 = lambdas * K_inv@h1\n",
    "    r2 = lambdas * K_inv@h2\n",
    "    t = lambdas * K_inv@h3\n",
    "    t = t.reshape((-1, 1))\n",
    "    r3 = np.cross(r1, r2)\n",
    "    R = np.hstack((r1.reshape((-1, 1)), r2.reshape((-1, 1)), r3.reshape((-1, 1))))\n",
    "    U, _ , V_t = np.linalg.svd(R)\n",
    "    R = U@V_t\n",
    "    P = K@np.hstack((R, t))\n",
    "    return P"
   ]
  },
  {
   "cell_type": "code",
   "execution_count": 115,
   "metadata": {},
   "outputs": [
    {
     "name": "stdout",
     "output_type": "stream",
     "text": [
      "K: [[1.74422010e+03 1.04759684e+00 6.32237799e+02]\n",
      " [0.00000000e+00 1.74503682e+03 4.97985025e+02]\n",
      " [0.00000000e+00 0.00000000e+00 1.00000000e+00]]\n",
      "[[ 9.99407891e+02 -1.43052020e+03 -6.29940735e+02 -8.27585326e-05]\n",
      " [-2.61289734e+02  3.69917133e+02 -1.75727960e+03  4.11018439e-04]\n",
      " [ 8.80149846e-01  3.25211118e-01 -3.45794704e-01  9.95315863e-04]]\n"
     ]
    }
   ],
   "source": [
    "B11 = b[0]\n",
    "B12 = b[1]\n",
    "B22 = b[2]\n",
    "B13 = b[3]\n",
    "B23 = b[4]\n",
    "B33 = b[5]\n",
    "\n",
    "v0 = (B12 * B13 - B11 * B23)/(B11 * B22 - B12 * B12)\n",
    "l = B33 - (B13**2 + v0*(B12 * B13 - B11 * B13))/B11\n",
    "alpha = np.sqrt(l/B11)\n",
    "beta = np.sqrt(l * B11/(B11 * B22 - B12**2))\n",
    "gamma = - B12 * (alpha**2) * beta / l\n",
    "u0 = gamma * v0 / beta - B13 * (alpha**2) / l\n",
    "\n",
    "K = np.array([[alpha, gamma, u0], [0, beta, v0], [0, 0, 1]])\n",
    "\n",
    "K_inv = np.linalg.inv(K)\n",
    "print(\"K:\",K)\n",
    "projections = []\n",
    "\n",
    "for i, H in enumerate(HH):\n",
    "    P = calculate_projection_matrix(H, K)\n",
    "    projections.append(P)\n",
    "\n",
    "print(projections[0])"
   ]
  },
  {
   "cell_type": "markdown",
   "metadata": {},
   "source": [
    "5. scegliamo un immagine, abbiamo bisogno di matrice di proiezione per l'immagine e i punti reali e proiettati dei corners della scacchiera che possiamo ricavare. Calcoliamo il reprojection error (pagina 45 lecture 3) (somma per ogni punto)"
   ]
  },
  {
   "cell_type": "code",
   "execution_count": 116,
   "metadata": {},
   "outputs": [],
   "source": [
    "#reprojection error\n",
    "def reprojection_error (P, R, I):\n",
    "  epsilon_tot=0\n",
    "  for i in range(R.shape[0]):\n",
    "    u = np.dot(P[0], R[i])/np.dot(P[2], R[i])\n",
    "    v = np.dot(P[1], R[i])/np.dot(P[2], R[i])\n",
    "\n",
    "    print(I[i], u, v)\n",
    "    epsilon = ((np.dot(P[0], R[i]) / np.dot(P[2], R[i]))-I[i][0])**2 + ((np.dot(P[1], R[i]) / np.dot(P[2], R[i]))-I[i][1])**2\n",
    "    print(epsilon)\n",
    "    epsilon_tot += epsilon\n",
    "  return epsilon_tot"
   ]
  },
  {
   "cell_type": "code",
   "execution_count": 117,
   "metadata": {},
   "outputs": [
    {
     "name": "stdout",
     "output_type": "stream",
     "text": [
      "[912.19885 637.3455 ] -0.08314800926349475 0.41295276626088057\n",
      "1237941.5437522978\n",
      "[879.38477 624.95764] -3441.296773389128 889.9675280907576\n",
      "18738519.2015145\n",
      "[846.91705 612.63544] -3861.555807782949 998.6045926743931\n",
      "22318688.871949267\n",
      "[814.66864 600.58795] -4025.4209194455084 1040.963764665466\n",
      "23620397.80145697\n",
      "[783.023  588.6812] -4112.6818566568745 1063.520738568795\n",
      "24193398.718576465\n",
      "[751.4288 576.7618] -4166.878320038279 1077.5305377895606\n",
      "24440514.000318334\n",
      "[720.1944  564.96674] -4203.809895239565 1087.0773591353636\n",
      "24518417.772682413\n",
      "[688.91705 553.21295] -4230.59296489099 1094.0007892804567\n",
      "24494030.303638563\n",
      "[924.11096 604.799  ] 1029.6376260164475 -269.15666395031747\n",
      "774934.3990172815\n",
      "[891.35504 592.6011 ] -332.6941797559738 83.85634782667475\n",
      "1757117.6926986666\n",
      "[858.73315 580.4869 ] -1148.4123840125274 295.2285985704334\n",
      "4110005.4976197705\n",
      "[826.4818 568.5113] -1691.525953192283 435.96241685223714\n",
      "6357932.307340083\n",
      "[794.62427 556.6728 ] -2079.12262652576 536.3980584693797\n",
      "8258832.276131748\n",
      "[763.00684 544.8717 ] -2369.6335401266056 611.6764393526429\n",
      "9817898.598399026\n",
      "[731.64465 533.2593 ] -2595.4759948577307 670.1976636196933\n",
      "11088483.929168543\n",
      "[700.39124 521.64813] -2776.0804033928157 716.9966195913805\n",
      "12124016.086471591\n",
      "[936.14624 572.3524 ] 1079.9798299649851 -282.3357013800666\n",
      "751179.8812214979\n",
      "[903.22754 560.23535] 261.16250379911367 -70.14034286282627\n",
      "809621.0256299858\n",
      "[870.5191 548.2103] -344.7266714187119 86.87498479160735\n",
      "1689652.592790014\n",
      "[838.19415 536.37726] -811.1870614800223 207.75753886093906\n",
      "2828449.310130225\n",
      "[806.3557  524.71106] -1181.3809298560689 303.692759221709\n",
      "3999946.050006883\n",
      "[774.5714  513.10815] -1482.3215612456643 381.68110061299\n",
      "5110838.959211383\n",
      "[743.1783 501.5258] -1731.7798355400118 446.3278615661872\n",
      "6128464.5029607415\n",
      "[711.7339  490.06055] -1941.9255446197421 500.7868265319577\n",
      "7042023.430607009\n",
      "[948.122   539.58093] 1097.872547730698 -287.01981885325716\n",
      "705694.0260985735\n",
      "[915.2298  527.64874] 512.9653555142899 -135.4369151573086\n",
      "601499.2708000221\n",
      "[882.4649  515.81396] 40.5682782494575 -13.011816573824472\n",
      "988446.636864098\n",
      "[850.0363  504.08096] -348.93332366358976 87.93032364584728\n",
      "1610709.5513853682\n",
      "[817.94086 492.57074] -675.5989885348503 172.5880790605433\n",
      "2333050.173141308\n",
      "[786.2597  480.99527] -953.4991775447661 244.60791083616337\n",
      "3082639.9514325303\n",
      "[754.6796 469.6414] -1192.7951887522484 306.6231924131214\n",
      "3819233.0879775085\n",
      "[723.3018  458.33566] -1401.0085789616876 360.58318930891437\n",
      "4522250.2123226905\n",
      "[960.18445 507.01187] 1107.043076426162 -289.4205627907227\n",
      "655872.0788041069\n",
      "[927.02966 495.1987 ] 652.162667829084 -171.5330407764164\n",
      "520083.0791751712\n",
      "[894.2558  483.41437] 266.70945469688803 -71.63837991654061\n",
      "701897.9660294284\n",
      "[861.7055  471.83432] -64.08431566287253 14.090653799712033\n",
      "1066616.0567391661\n",
      "[829.7112  460.48367] -351.075395435261 88.46771334141044\n",
      "1532652.8149144948\n",
      "[797.85065 449.14285] -602.423845325137 153.60757287293143\n",
      "2048109.755451485\n",
      "[766.28033 437.81866] -824.3813651664359 211.13043275434964\n",
      "2581592.197133718\n",
      "[734.68207 426.60834] -1021.81835447233 262.2985133824465\n",
      "3112291.451962076\n",
      "[972.226   474.19827] 1112.6192957927487 -290.88035592619735\n",
      "605055.5817900872\n",
      "[939.1039 462.5389] 740.4865544521098 -194.43686020866662\n",
      "471066.00526288134\n",
      "[906.21173 450.95544] 415.42881570308276 -110.19352133433885\n",
      "555756.0315779853\n",
      "[873.59814 439.45227] 129.04493271857478 -35.973062546747634\n",
      "780388.7325306099\n",
      "[841.42615 428.2622 ] -125.1794249975486 29.91279760723342\n",
      "1093008.5846962605\n",
      "[809.46  416.912] -352.3733121951846 88.79332665731604\n",
      "1457518.5518485866\n",
      "[777.7889  405.86713] -556.6301447658599 141.72939158494964\n",
      "1850442.8750286514\n",
      "[746.2753 394.7244] -741.2565292988725 189.5779465438741\n",
      "2254836.0968316025\n",
      "[984.3307  441.37885] 1116.3680866467234 -291.86174829891394\n",
      "555075.6424919532\n",
      "[951.03265 429.73965] 801.5175489859134 -210.26318909904938\n",
      "431958.4064375066\n",
      "[918.0865  418.33423] 520.6743903634832 -137.47818680879686\n",
      "466863.81543587503\n",
      "[885.3662 406.9432] 268.6111566700447 -72.15196297747113\n",
      "609918.978656204\n",
      "[853.2174 395.8761] 41.11955950691315 -13.193872270363942\n",
      "826841.1553656125\n",
      "[821.19    384.75467] -165.22635622564135 40.283976443657465\n",
      "1091677.2908067259\n",
      "[789.4114  373.70694] -353.2439359939238 89.0117433622753\n",
      "1386712.5190223365\n",
      "[757.678   362.77246] -525.2713156296471 133.5953938317735\n",
      "1698481.019435035\n",
      "[996.3746  408.46033] 1119.0612970136792 -292.5668012653789\n",
      "506491.067081715\n",
      "[963.06604 397.11505] 846.213279091991 -221.85351840726307\n",
      "396776.65798869\n",
      "[930.00684 385.80072] 599.0777488279357 -157.80407143320284\n",
      "405020.2301978857\n",
      "[897.25616 374.592  ] 374.1836413300071 -99.51887384313294\n",
      "498385.99519932293\n",
      "[864.8816  363.59973] 168.657758547851 -46.25328666921444\n",
      "652707.1224415515\n",
      "[832.7802  352.60687] -19.898639662894286 2.614365084117589\n",
      "849555.9800475633\n",
      "[800.9868  341.76385] -193.5038881853313 47.60716780971431\n",
      "1075539.918126333\n",
      "[769.23804 330.98596] -353.8684494010702 89.1684174168891\n",
      "1319843.9048684794\n",
      "[1008.49536  375.5106 ] 1121.089747319738 -293.09782733120744\n",
      "459714.7109475613\n",
      "[975.08673 364.26608] 880.3579823296395 -230.70779495037644\n",
      "362967.4509786028\n",
      "[941.90265 353.00543] 659.7463914524217 -173.5322730620108\n",
      "356854.1086190898\n",
      "[909.0538  342.00388] 456.8337153666844 -120.94374810357446\n",
      "418823.48201210354\n",
      "[876.74304 331.2132 ] 269.5722105415291 -72.41150994960621\n",
      "531569.3216565707\n",
      "[844.54254 320.3751 ] 96.21829828483753 -27.48367834631291\n",
      "680994.8967850703\n",
      "[812.5893  309.58807] -64.72188772040205 14.226909438630509\n",
      "856913.1277042718\n",
      "[780.68146 298.8468 ] -214.53566035572874 53.0538840433194\n",
      "1050871.2701105427\n",
      "[1020.58624  342.47473] 1122.6725217173394 -293.51218032715815\n",
      "414900.9603144352\n",
      "[987.1189  331.41925] 907.2933056169072 -237.69256208991524\n",
      "330260.3801733806\n",
      "[953.8587  320.43283] 708.0862578055854 -186.06426869966057\n",
      "316943.4069305498\n",
      "[920.908   309.54327] 523.2958102362235 -138.17231132341522\n",
      "358544.7146437956\n",
      "[888.4435  298.76352] 351.41162200187057 -93.62525640338053\n",
      "442372.16934516234\n",
      "[856.149   288.07004] 191.12720585394143 -52.084502932605794\n",
      "557959.0807639334\n",
      "[824.17395 277.50345] 41.30665769126047 -13.255659769597656\n",
      "697422.056706406\n",
      "[792.2895  266.96326] -99.04230391141853 23.11844168038567\n",
      "853932.6602629634\n",
      "[1032.8206   309.43066] 1123.9419624428485 -293.8445060007309\n",
      "372244.04141019366\n",
      "[999.1827  298.41824] 929.0845202672655 -243.34337824672033\n",
      "298419.4064469114\n",
      "[965.7895  287.53775] 747.5088060231607 -196.2844707721754\n",
      "281730.3984357121\n",
      "[932.765   276.76013] 577.9016253202888 -152.3274434960235\n",
      "310044.1723897226\n",
      "[900.31744 266.25134] 419.1173782735949 -111.17539174013594\n",
      "374004.4430340604\n",
      "[867.87915 255.66808] 270.15214991820073 -72.56813125222327\n",
      "465016.57455723814\n",
      "[835.74475 245.28911] 130.12246311192675 -36.276691603818286\n",
      "577182.1127934915\n",
      "[803.7214  234.81465] -1.7522564339601412 -2.0987716590923142\n",
      "704915.7402166849\n",
      "310008465.913933\n"
     ]
    }
   ],
   "source": [
    "image = cv2.imread(images_path[0])\n",
    "H, R, I = calculate_homography(image)\n",
    "R = R\n",
    "I = I\n",
    "P = calculate_projection_matrix(H, K)\n",
    "error = reprojection_error(P, R, I)\n",
    "print(error)"
   ]
  },
  {
   "cell_type": "markdown",
   "metadata": {},
   "source": [
    "6. superimposition di un oggetto per tutte le immagini"
   ]
  }
 ],
 "metadata": {
  "colab": {
   "provenance": [
    {
     "file_id": "1inylUtH6uv3r5d2xmKbAbhN2lcDTBxGl",
     "timestamp": 1697967174775
    }
   ]
  },
  "kernelspec": {
   "display_name": "Python 3 (ipykernel)",
   "language": "python",
   "name": "python3"
  },
  "language_info": {
   "codemirror_mode": {
    "name": "ipython",
    "version": 3
   },
   "file_extension": ".py",
   "mimetype": "text/x-python",
   "name": "python",
   "nbconvert_exporter": "python",
   "pygments_lexer": "ipython3",
   "version": "3.11.2"
  }
 },
 "nbformat": 4,
 "nbformat_minor": 0
}

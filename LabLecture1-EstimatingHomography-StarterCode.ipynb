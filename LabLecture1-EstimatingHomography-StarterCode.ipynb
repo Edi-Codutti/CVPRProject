{
 "cells": [
  {
   "cell_type": "markdown",
   "metadata": {
    "id": "tzB1bMlRatfs"
   },
   "source": [
    "### Libraries\n",
    "Besides [Numpy](https://numpy.org/) and the Pyplot interface to [Matplotlib](https://matplotlib.org/), we will need [OpenCV](https://opencv.org/)."
   ]
  },
  {
   "cell_type": "code",
   "execution_count": 106,
   "metadata": {
    "colab": {
     "base_uri": "https://localhost:8080/"
    },
    "executionInfo": {
     "elapsed": 642,
     "status": "ok",
     "timestamp": 1729844600667,
     "user": {
      "displayName": "FELICE ANDREA PELLEGRINO",
      "userId": "15671707976733738277"
     },
     "user_tz": -120
    },
    "id": "IzDFnKL6V3SN",
    "outputId": "67a7cec0-c5a7-4c3d-8889-886bf2b9922e"
   },
   "outputs": [],
   "source": [
    "from matplotlib import pyplot as plt\n",
    "import os\n",
    "import numpy as np\n",
    "import cv2 # OpenCV"
   ]
  },
  {
   "cell_type": "code",
   "execution_count": 107,
   "metadata": {
    "colab": {
     "base_uri": "https://localhost:8080/"
    },
    "executionInfo": {
     "elapsed": 35359,
     "status": "ok",
     "timestamp": 1729844636025,
     "user": {
      "displayName": "FELICE ANDREA PELLEGRINO",
      "userId": "15671707976733738277"
     },
     "user_tz": -120
    },
    "id": "BqPIcN-4GgeT",
    "outputId": "e382fe39-b90c-4868-e699-fd3dd6df7ff8"
   },
   "outputs": [],
   "source": [
    "folderpath = './images'"
   ]
  },
  {
   "cell_type": "markdown",
   "metadata": {},
   "source": [
    "1. Calcolare omografia per ogni immagine e c'è già la funzione di Edi"
   ]
  },
  {
   "cell_type": "code",
   "execution_count": 108,
   "metadata": {},
   "outputs": [],
   "source": [
    "grid_size = (8,11)\n",
    "def calculate_homography(image)->tuple[np.ndarray, np.ndarray, np.ndarray]:\n",
    "    return_value, corners = cv2.findChessboardCorners(image, patternSize=grid_size)\n",
    "    assert(return_value)\n",
    "    gray = cv2.cvtColor(image.copy(), cv2.COLOR_BGR2GRAY)\n",
    "    corners = corners.reshape((88,2)).copy()\n",
    "    criteria = (cv2.TERM_CRITERIA_MAX_ITER | cv2.TERM_CRITERIA_EPS, 100, 0.001)\n",
    "    cv2.cornerSubPix(gray, corners, (5,5), (-1,-1), criteria)\n",
    "    A = np.empty((0,9), dtype=float)\n",
    "    O = np.array([0,0,0]).reshape(1,3)\n",
    "    square_size = 11/1000 # meters\n",
    "    real_coords = []\n",
    "    pix_coords = []\n",
    "    for index, corner in enumerate(corners):\n",
    "        Xpix = corner[0] # in pixel\n",
    "        Ypix = corner[1]\n",
    "        pix_coords.append(np.array([Xpix, Ypix]))\n",
    "        grid_size_cv2 = tuple(reversed(grid_size)) # OpenCV and Python store matrices differently\n",
    "        u_index, v_index = np.unravel_index(index, grid_size_cv2) # convert index from linear to 2D (0-based indexing)\n",
    "        Xmm = u_index * square_size\n",
    "        Ymm = v_index * square_size\n",
    "        real_coords.append(np.array([Xmm, Ymm, 0, 1]))\n",
    "        m = np.array([Xmm, Ymm, 1]).reshape(1,3)\n",
    "        A = np.vstack((A, np.hstack((m,O,-Xpix*m))))\n",
    "        A = np.vstack((A, np.hstack((O,m,-Ypix*m))))\n",
    "\n",
    "    _, _, Vh = np.linalg.svd(A)\n",
    "    h = Vh.transpose()[:,-1]\n",
    "    H = h.reshape(3,3)\n",
    "    return H, np.array(real_coords), np.array(pix_coords)"
   ]
  },
  {
   "cell_type": "code",
   "execution_count": 109,
   "metadata": {},
   "outputs": [],
   "source": [
    "images_path = [os.path.join(folderpath, imagename) for imagename in os.listdir(folderpath) if imagename.endswith(\".tiff\")]\n",
    "images_path.sort()"
   ]
  },
  {
   "cell_type": "code",
   "execution_count": 110,
   "metadata": {},
   "outputs": [],
   "source": [
    "HH = []\n",
    "for path in images_path:\n",
    "    image = cv2.imread(path)\n",
    "    H, _, _ = calculate_homography(image)\n",
    "    HH.append(H)"
   ]
  },
  {
   "cell_type": "markdown",
   "metadata": {},
   "source": [
    "2. per ogni omografia dalla relativa matrice costruire la matrice V + fare funzione che costruisce i vettori v, i, j"
   ]
  },
  {
   "cell_type": "code",
   "execution_count": 111,
   "metadata": {},
   "outputs": [],
   "source": [
    "def vij_function (H, i, j):\n",
    "  v=np.zeros(6)\n",
    "  v[0]=H[0][i]*H[0][j]\n",
    "  v[1]=H[0][i]*H[1][j]+H[1][i]*H[0][j]\n",
    "  v[2]=H[1][i]*H[1][j]\n",
    "  v[3]=H[2][i]*H[0][j]+H[0][i]*H[2][j]\n",
    "  v[4]=H[2][i]*H[1][j]+H[1][i]*H[2][j]\n",
    "  v[5]=H[2][i]*H[2][j]\n",
    "  return v"
   ]
  },
  {
   "cell_type": "code",
   "execution_count": 112,
   "metadata": {},
   "outputs": [],
   "source": [
    "VV=np.zeros((0,6))\n",
    "\n",
    "for H in HH:\n",
    "  v11=vij_function(H, 0, 0)\n",
    "  v12=vij_function(H, 0, 1)\n",
    "  v22=vij_function(H, 1, 1)\n",
    "  V=np.array([v12.T, (v11-v22).T])\n",
    "  VV=np.vstack((VV, V))"
   ]
  },
  {
   "cell_type": "markdown",
   "metadata": {},
   "source": [
    "3. data V trovare B applicando la singular value decomposition"
   ]
  },
  {
   "cell_type": "code",
   "execution_count": 113,
   "metadata": {},
   "outputs": [
    {
     "name": "stdout",
     "output_type": "stream",
     "text": [
      "[[-2.66202724e-07  1.59809311e-10  1.68223842e-04]\n",
      " [ 1.59809311e-10 -2.65953699e-07  1.32339922e-04]\n",
      " [ 1.68223842e-04  1.32339922e-04 -9.99999977e-01]]\n",
      "[-1.00000002e+00 -2.66204763e-07 -2.20138534e-07]\n"
     ]
    }
   ],
   "source": [
    "U, Sigma, S_T = np.linalg.svd(VV)\n",
    "b = S_T.transpose()[:, -1]\n",
    "B = np.empty((3, 3))\n",
    "B[0, 0] = b[0]\n",
    "B[0, 1] = B[1, 0] = b[1]\n",
    "B[1, 1] = b[2]\n",
    "B[0, 2] = B[2, 0] = b[3]\n",
    "B[2, 1] = B[1, 2] = b[4]\n",
    "B[2, 2] = b[5]\n",
    "print(B)\n",
    "eigvals, _ = np.linalg.eigh(B)\n",
    "print(eigvals)"
   ]
  },
  {
   "cell_type": "markdown",
   "metadata": {},
   "source": [
    "4. da B ottenere K e di conseguenza trovare R"
   ]
  },
  {
   "cell_type": "code",
   "execution_count": 144,
   "metadata": {},
   "outputs": [],
   "source": [
    "def calculate_projection_matrix(H:np.ndarray, K:np.ndarray)->np.ndarray:\n",
    "    K_inv = np.linalg.inv(K)\n",
    "    h1 = H[:, 0]\n",
    "    h2 = H[:, 1]\n",
    "    h3 = H[:, 2]\n",
    "    lambdas = 1/np.linalg.norm(K_inv@h1)\n",
    "    r1 = lambdas * K_inv@h1\n",
    "    r2 = lambdas * K_inv@h2\n",
    "    t = lambdas * K_inv@h3\n",
    "    t = t.reshape((-1, 1))\n",
    "    r3 = np.cross(r1, r2)\n",
    "    R = np.hstack((r1.reshape((-1, 1)), r2.reshape((-1, 1)), r3.reshape((-1, 1))))\n",
    "    U, _ , V_t = np.linalg.svd(R)\n",
    "    R = U@V_t\n",
    "    P = K@np.hstack((R, t))\n",
    "    return P"
   ]
  },
  {
   "cell_type": "code",
   "execution_count": 145,
   "metadata": {},
   "outputs": [
    {
     "name": "stdout",
     "output_type": "stream",
     "text": [
      "K: [[1.74422010e+03 1.04759684e+00 6.32237799e+02]\n",
      " [0.00000000e+00 1.74503682e+03 4.97985025e+02]\n",
      " [0.00000000e+00 0.00000000e+00 1.00000000e+00]]\n",
      "[[ 5.59249311e+02 -1.44730028e+03 -1.01714876e+03  5.04652768e+02]\n",
      " [-1.66336676e+03 -4.77939884e+02 -5.45826980e+02  3.52600998e+02]\n",
      " [-4.60282007e-02  2.28763556e-01 -9.72393254e-01  5.53243530e-01]]\n"
     ]
    }
   ],
   "source": [
    "B11 = b[0]\n",
    "B12 = b[1]\n",
    "B22 = b[2]\n",
    "B13 = b[3]\n",
    "B23 = b[4]\n",
    "B33 = b[5]\n",
    "\n",
    "v0 = (B12 * B13 - B11 * B23)/(B11 * B22 - B12 * B12)\n",
    "l = B33 - (B13**2 + v0*(B12 * B13 - B11 * B13))/B11\n",
    "alpha = np.sqrt(l/B11)\n",
    "beta = np.sqrt(l * B11/(B11 * B22 - B12**2))\n",
    "gamma = - B12 * (alpha**2) * beta / l\n",
    "u0 = gamma * v0 / beta - B13 * (alpha**2) / l\n",
    "\n",
    "K = np.array([[alpha, gamma, u0], [0, beta, v0], [0, 0, 1]])\n",
    "\n",
    "K_inv = np.linalg.inv(K)\n",
    "print(\"K:\",K)\n",
    "projections = []\n",
    "\n",
    "for i, H in enumerate(HH):\n",
    "    P = calculate_projection_matrix(H, K)\n",
    "    projections.append(P)\n",
    "\n",
    "print(projections[0])"
   ]
  },
  {
   "cell_type": "markdown",
   "metadata": {},
   "source": [
    "5. scegliamo un immagine, abbiamo bisogno di matrice di proiezione per l'immagine e i punti reali e proiettati dei corners della scacchiera che possiamo ricavare. Calcoliamo il reprojection error (pagina 45 lecture 3) (somma per ogni punto)"
   ]
  },
  {
   "cell_type": "code",
   "execution_count": 146,
   "metadata": {},
   "outputs": [],
   "source": [
    "#reprojection error\n",
    "def reprojection_error (P:np.ndarray, R:np.ndarray, I:np.ndarray):\n",
    "  epsilon_tot=0\n",
    "  for i in range(R.shape[0]):\n",
    "    u = np.dot(P[0], R[i])/np.dot(P[2], R[i])\n",
    "    v = np.dot(P[1], R[i])/np.dot(P[2], R[i])\n",
    "\n",
    "    print(R[i], I[i], u, v)\n",
    "    epsilon = ((np.dot(P[0], R[i]) / np.dot(P[2], R[i]))-I[i][0])**2 + ((np.dot(P[1], R[i]) / np.dot(P[2], R[i]))-I[i][1])**2\n",
    "    #print(epsilon)\n",
    "    epsilon_tot += epsilon\n",
    "  return epsilon_tot"
   ]
  },
  {
   "cell_type": "code",
   "execution_count": 147,
   "metadata": {},
   "outputs": [],
   "source": [
    "image = cv2.imread(images_path[0])\n",
    "H, R, I = calculate_homography(image)\n",
    "R = R\n",
    "I = I\n"
   ]
  },
  {
   "cell_type": "code",
   "execution_count": 148,
   "metadata": {},
   "outputs": [
    {
     "name": "stdout",
     "output_type": "stream",
     "text": [
      "[[ 5.59249311e+02 -1.44730028e+03 -1.01714876e+03  5.04652768e+02]\n",
      " [-1.66336676e+03 -4.77939884e+02 -5.45826980e+02  3.52600998e+02]\n",
      " [-4.60282007e-02  2.28763556e-01 -9.72393254e-01  5.53243530e-01]]\n"
     ]
    }
   ],
   "source": [
    "P = calculate_projection_matrix(H, K)\n",
    "print(P)\n",
    "q,r = np.linalg.qr(P[:,:-1])"
   ]
  },
  {
   "cell_type": "code",
   "execution_count": 149,
   "metadata": {},
   "outputs": [
    {
     "name": "stdout",
     "output_type": "stream",
     "text": [
      "[0. 0. 0. 1.] [912.19885 637.3455 ] 912.1711142308809 637.3341549043421\n",
      "[0.    0.011 0.    1.   ] [879.38477 624.95764] 879.3949303159782 624.9886699966785\n",
      "[0.    0.022 0.    1.   ] [846.91705 612.63544] 846.9142200073668 612.7544782449404\n",
      "[0.    0.033 0.    1.   ] [814.66864 600.58795] 814.7250057417684 600.6300814592362\n",
      "[0.    0.044 0.    1.   ] [783.023  588.6812] 782.8233810297521 588.6140082203661\n",
      "[0.    0.055 0.    1.   ] [751.4288 576.7618] 751.2055088752984 576.7048132845346\n",
      "[0.    0.066 0.    1.   ] [720.1944  564.96674] 719.8676202373488 564.9010770038768\n",
      "[0.    0.077 0.    1.   ] [688.91705 553.21295] 688.806012532046 553.2014047623128\n",
      "[0.011 0.    0.    1.   ] [924.11096 604.799  ] 924.136264619231 604.815364924882\n",
      "[0.011 0.011 0.    1.   ] [891.35504 592.6011 ] 891.2759677716886 592.60599729145\n",
      "[0.011 0.022 0.    1.   ] [858.73315 580.4869 ] 858.7121717006 580.5067956434355\n",
      "[0.011 0.033 0.    1.   ] [826.4818 568.5113] 826.440881408406 568.5162756243787\n",
      "[0.011 0.044 0.    1.   ] [794.62427 556.6728 ] 794.4581733471418 556.6329794251874\n",
      "[0.011 0.055 0.    1.   ] [763.00684 544.8717 ] 762.7601938282232 544.8554751932857\n",
      "[0.011 0.066 0.    1.   ] [731.64465 533.2593 ] 731.3431574745161 533.1823564574762\n",
      "[0.011 0.077 0.    1.   ] [700.39124 521.64813] 700.2033457133823 521.6122415680244\n",
      "[0.022 0.    0.    1.   ] [936.14624 572.3524 ] 936.1233553867473 572.2369455584939\n",
      "[0.022 0.011 0.    1.   ] [903.22754 560.23535] 903.1786925449974 560.1642141499258\n",
      "[0.022 0.022 0.    1.   ] [870.5191 548.2103] 870.531561801833 548.20051482127\n",
      "[0.022 0.033 0.    1.   ] [838.19415 536.37726] 838.1779506378817 536.3443771653508\n",
      "[0.022 0.044 0.    1.   ] [806.3557  524.71106] 806.1139183613569 524.5943570965587\n",
      "[0.022 0.055 0.    1.   ] [774.5714  513.10815] 774.3355945079982 512.9490362645026\n",
      "[0.022 0.066 0.    1.   ] [743.1783 501.5258] 742.8391772835947 501.40702148326324\n",
      "[0.022 0.077 0.    1.   ] [711.7339  490.06055] 711.6209320477742 489.9669441757715\n",
      "[0.033 0.    0.    1.   ] [948.122   539.58093] 948.1324469365973 539.5987326419303\n",
      "[0.033 0.011 0.    1.   ] [915.2298  527.64874] 915.1031640712965 527.663158576418\n",
      "[0.033 0.022 0.    1.   ] [882.4649  515.81396] 882.3724487987567 515.8354759123476\n",
      "[0.033 0.033 0.    1.   ] [850.0363  504.08096] 849.936270989752 504.11422830850637\n",
      "[0.033 0.044 0.    1.   ] [817.94086 492.57074] 817.7906727228926 492.4979855169507\n",
      "[0.033 0.055 0.    1.   ] [786.2597  480.99527] 785.9317666746518 480.9853428012211\n",
      "[0.033 0.066 0.    1.   ] [754.6796 469.6414] 754.3557345522761 469.57492037005346\n",
      "[0.033 0.077 0.    1.   ] [723.3018  458.33566] 723.0588255682549 458.26536282610766\n",
      "[0.044 0.    0.    1.   ] [960.18445 507.01187] 960.1635998938776 506.90056140878926\n",
      "[0.044 0.011 0.    1.   ] [927.02966 495.1987 ] 927.0494420033581 495.10266798275285\n",
      "[0.044 0.022 0.    1.   ] [894.2558  483.41437] 894.2348913920076 483.4115184685197\n",
      "[0.044 0.033 0.    1.   ] [861.7055  471.83432] 861.715900232196 471.8256707083532\n",
      "[0.044 0.044 0.    1.   ] [829.7112  460.48367] 829.4884932866522 460.343708406969\n",
      "[0.044 0.055 0.    1.   ] [797.85065 449.14285] 797.5487662885097 448.96424055437825\n",
      "[0.044 0.066 0.    1.   ] [766.28033 437.81866] 765.8928843645389 437.6859008641178\n",
      "[0.044 0.077 0.    1.   ] [734.68207 426.60834] 734.5170805002335 426.50734722639197\n",
      "[0.055 0.    0.    1.   ] [972.226   474.19827] 972.216875106634 474.1422664867408\n",
      "[0.055 0.011 0.    1.   ] [939.1039 462.5389] 939.0175862123283 462.48257918555817\n",
      "[0.055 0.022 0.    1.   ] [906.21173 450.95544] 906.1189484961394 450.92848145693335\n",
      "[0.055 0.033 0.    1.   ] [873.59814 439.45227] 873.5168963429634 439.47854544495806\n",
      "[0.055 0.044 0.    1.   ] [841.42615 428.2622 ] 841.2074371128698 428.1313689228183\n",
      "[0.055 0.055 0.    1.   ] [809.46  416.912] 809.1866495110943 416.88557472033085\n",
      "[0.055 0.066 0.    1.   ] [777.7889  405.86713] 777.4506820015278 405.7398101667562\n",
      "[0.055 0.077 0.    1.   ] [746.2753 394.7244] 745.9957512623528 394.6927465484133\n",
      "[0.066 0.    0.    1.   ] [984.3307  441.37885] 984.2923336468847 441.32368189473925\n",
      "[0.066 0.011 0.    1.   ] [951.03265 429.73965] 951.0076567887296 429.80272840353854\n",
      "[0.066 0.022 0.    1.   ] [918.0865  418.33423] 918.0246792405972 418.38620325736616\n",
      "[0.066 0.033 0.    1.   ] [885.3662 406.9432] 885.3393175103236 407.0726930213402\n",
      "[0.066 0.044 0.    1.   ] [853.2174 395.8761] 852.9475614680374 395.86080965375197\n",
      "[0.066 0.055 0.    1.   ] [821.19    384.75467] 820.8454727060307 384.7491899383615\n",
      "[0.066 0.066 0.    1.   ] [789.4114  373.70694] 789.029182942436 373.73649493185644\n",
      "[0.066 0.077 0.    1.   ] [757.678   362.77246] 757.4948924673496 362.8214094260024\n",
      "[0.077 0.    0.    1.   ] [996.3746  408.46033] 996.3900368116555 408.44464104022035\n",
      "[0.077 0.011 0.    1.   ] [963.06604 397.11505] 963.0197140434649 397.0629512547339\n",
      "[0.077 0.022 0.    1.   ] [930.00684 385.80072] 929.9521429706981 385.7845216595453\n",
      "[0.077 0.033 0.    1.   ] [897.25616 374.592  ] 897.1832221340234 374.6079533608498\n",
      "[0.077 0.044 0.    1.   ] [864.8816  363.59973] 864.7089238258391 363.5318726195085\n",
      "[0.077 0.055 0.    1.   ] [832.7802  352.60687] 832.5252924399558 352.55493028817034\n",
      "[0.077 0.066 0.    1.   ] [800.9868  341.76385] 800.6284428653923 341.6758012634411\n",
      "[0.077 0.077 0.    1.   ] [769.23804 330.98596] 769.0145589229215 330.8931839526321\n",
      "[0.088 0.    0.    1.   ] [1008.49536  375.5106 ] 1008.5100461240147 375.50497671628165\n",
      "[0.088 0.011 0.    1.   ] [975.08673 364.26608] 975.0538185088286 364.2630827537626\n",
      "[0.088 0.022 0.    1.   ] [941.90265 353.00543] 941.9013992486185 353.1232738604525\n",
      "[0.088 0.033 0.    1.   ] [909.0538  342.00388] 909.0486688262479 342.08416580453195\n",
      "[0.088 0.044 0.    1.   ] [876.74304 331.2132 ] 876.4915818680879 331.14439926773287\n",
      "[0.088 0.055 0.    1.   ] [844.54254 320.3751 ] 844.2261654834334 320.30263928735286\n",
      "[0.088 0.066 0.    1.   ] [812.5893  309.58807] 812.2485176483551 309.55757471320015\n",
      "[0.088 0.077 0.    1.   ] [780.68146 298.8468 ] 780.5548056325977 298.9079176790032\n",
      "[0.099 0.    0.    1.   ] [1020.58624  342.47473] 1020.6524233341162 342.5045210988485\n",
      "[0.099 0.011 0.    1.   ] [987.1189  331.41925] 987.1100309395252 331.4029573090513\n",
      "[0.099 0.022 0.    1.   ] [953.8587  320.43283] 953.872507854384 320.4022964616141\n",
      "[0.099 0.033 0.    1.   ] [920.908   309.54327] 920.9357164125885 309.50116910847686\n",
      "[0.099 0.044 0.    1.   ] [888.4435  298.76352] 888.2955934856685 298.698230471385\n",
      "[0.099 0.055 0.    1.   ] [856.149   288.07004] 855.9481488118741 287.9921598888653\n",
      "[0.099 0.066 0.    1.   ] [824.17395 277.50345] 823.889463370008 277.3816602780113\n",
      "[0.099 0.077 0.    1.   ] [792.2895  266.96326] 792.1156877966138 266.8654576106185\n",
      "[0.11 0.   0.   1.  ] [1032.8206   309.43066] 1032.8172304202483 309.4431057438239\n",
      "[0.11  0.011 0.    1.   ] [999.1827  298.41824] 999.1884123136892 298.48240872004726\n",
      "[0.11  0.022 0.    1.   ] [965.7895  287.53775] 965.8655287868675 287.6214254663761\n",
      "[0.11  0.033 0.    1.   ] [932.765   276.76013] 932.8444239330129 276.8588014411545\n",
      "[0.11  0.044 0.    1.   ] [900.31744 266.25134] 900.1210167794867 266.19320652613345\n",
      "[0.11  0.055 0.    1.   ] [867.87915 255.66808] 867.6912996064603 255.62333447847504\n",
      "[0.11  0.066 0.    1.   ] [835.74475 245.28911] 835.5513363106628 245.14790239744607\n",
      "[0.11  0.077 0.    1.   ] [803.7214  234.81465] 803.697260812793 234.765650205343\n",
      "3.389381486364584\n"
     ]
    }
   ],
   "source": [
    "error = reprojection_error(P, R, I)\n",
    "print(error)"
   ]
  },
  {
   "cell_type": "markdown",
   "metadata": {},
   "source": [
    "6. superimposition di un oggetto per tutte le immagini"
   ]
  }
 ],
 "metadata": {
  "colab": {
   "provenance": [
    {
     "file_id": "1inylUtH6uv3r5d2xmKbAbhN2lcDTBxGl",
     "timestamp": 1697967174775
    }
   ]
  },
  "kernelspec": {
   "display_name": "Python 3 (ipykernel)",
   "language": "python",
   "name": "python3"
  },
  "language_info": {
   "codemirror_mode": {
    "name": "ipython",
    "version": 3
   },
   "file_extension": ".py",
   "mimetype": "text/x-python",
   "name": "python",
   "nbconvert_exporter": "python",
   "pygments_lexer": "ipython3",
   "version": "3.11.2"
  }
 },
 "nbformat": 4,
 "nbformat_minor": 0
}

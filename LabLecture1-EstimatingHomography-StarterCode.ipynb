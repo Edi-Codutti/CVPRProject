{
 "cells": [
  {
   "cell_type": "markdown",
   "metadata": {
    "id": "IeHzhcDyZw_f"
   },
   "source": [
    "#CVPR 2024, Lab class #1\n",
    "\n",
    "## Estimating homography\n",
    "In this example, we will estimate homographies from a set of checkerboard images. Estimating homographies is the first step of the Zhang's calibration method."
   ]
  },
  {
   "cell_type": "markdown",
   "metadata": {
    "id": "tzB1bMlRatfs"
   },
   "source": [
    "### Libraries\n",
    "Besides [Numpy](https://numpy.org/) and the Pyplot interface to [Matplotlib](https://matplotlib.org/), we will need [OpenCV](https://opencv.org/)."
   ]
  },
  {
   "cell_type": "code",
   "execution_count": 1,
   "metadata": {
    "colab": {
     "base_uri": "https://localhost:8080/"
    },
    "executionInfo": {
     "elapsed": 642,
     "status": "ok",
     "timestamp": 1729844600667,
     "user": {
      "displayName": "FELICE ANDREA PELLEGRINO",
      "userId": "15671707976733738277"
     },
     "user_tz": -120
    },
    "id": "IzDFnKL6V3SN",
    "outputId": "67a7cec0-c5a7-4c3d-8889-886bf2b9922e"
   },
   "outputs": [
    {
     "name": "stdout",
     "output_type": "stream",
     "text": [
      "4.10.0\n"
     ]
    }
   ],
   "source": [
    "from matplotlib import pyplot as plt\n",
    "\n",
    "import os\n",
    "\n",
    "import numpy as np\n",
    "\n",
    "import cv2 # OpenCV\n",
    "print (cv2.__version__)"
   ]
  },
  {
   "cell_type": "markdown",
   "metadata": {
    "id": "imCaH-mQStHP"
   },
   "source": [
    "Make sure to check the docs for the **your version** of OpenCV, for example, if the installed version is 4.8.0, then the documentation can be found here: https://docs.opencv.org/4.8.0/"
   ]
  },
  {
   "cell_type": "markdown",
   "metadata": {
    "id": "KtcHd3GjeGRM"
   },
   "source": [
    "### Loading and displaying images using OpenCV\n",
    "Let the images be located in the `images/` folder. Notice that it may be a folder in your GDrive or even **a shortcut to a folder that is shared with you**."
   ]
  },
  {
   "cell_type": "code",
   "execution_count": 1,
   "metadata": {
    "colab": {
     "base_uri": "https://localhost:8080/"
    },
    "executionInfo": {
     "elapsed": 35359,
     "status": "ok",
     "timestamp": 1729844636025,
     "user": {
      "displayName": "FELICE ANDREA PELLEGRINO",
      "userId": "15671707976733738277"
     },
     "user_tz": -120
    },
    "id": "BqPIcN-4GgeT",
    "outputId": "e382fe39-b90c-4868-e699-fd3dd6df7ff8"
   },
   "outputs": [],
   "source": [
    "folderpath = '/images'"
   ]
  },
  {
   "cell_type": "markdown",
   "metadata": {},
   "source": [
    "1. Calcolare omografia per ogni immagine e c'è già la funzione di Edi"
   ]
  },
  {
   "cell_type": "code",
   "execution_count": null,
   "metadata": {},
   "outputs": [],
   "source": [
    "grid_size = (8,11)\n",
    "def calculate_homography(image)->np.ndarray:\n",
    "    return_value, corners = cv2.findChessboardCorners(image, patternSize=grid_size)\n",
    "    assert(return_value)\n",
    "    gray = cv2.cvtColor(image.copy(), cv2.COLOR_BGR2GRAY)\n",
    "    corners = corners.reshape((88,2)).copy()\n",
    "    criteria = (cv2.TERM_CRITERIA_MAX_ITER | cv2.TERM_CRITERIA_EPS, 100, 0.001)\n",
    "    cv2.cornerSubPix(gray, corners, (5,5), (-1,-1), criteria)\n",
    "    A = np.empty((0,9), dtype=float)\n",
    "    O = np.array([0,0,0]).reshape(1,3)\n",
    "    square_size = 11 # mm\n",
    "    for index, corner in enumerate(corners):\n",
    "        Xpix = corner[0] # in pixel\n",
    "        Ypix = corner[1]\n",
    "        grid_size_cv2 = tuple(reversed(grid_size)) # OpenCV and Python store matrices differently\n",
    "        u_index, v_index = np.unravel_index(index, grid_size_cv2) # convert index from linear to 2D (0-based indexing)\n",
    "        Xmm = u_index * square_size\n",
    "        Ymm = v_index * square_size\n",
    "        m = np.array([Xmm, Ymm, 1]).reshape(1,3)\n",
    "        A = np.vstack((A, np.hstack((m,O,-Xpix*m))))\n",
    "        A = np.vstack((A, np.hstack((O,m,-Ypix*m))))\n",
    "\n",
    "    _, _, Vh = np.linalg.svd(A)\n",
    "    h = Vh.transpose()[:,-1]\n",
    "    H = h.reshape(3,3)\n",
    "    return H"
   ]
  },
  {
   "cell_type": "code",
   "execution_count": null,
   "metadata": {},
   "outputs": [],
   "source": [
    "images_path = [os.path.join(folderpath, imagename) for imagename in os.listdir(folderpath) if imagename.endswith(\".tiff\")]\n",
    "images_path.sort()"
   ]
  },
  {
   "cell_type": "code",
   "execution_count": null,
   "metadata": {},
   "outputs": [],
   "source": [
    "homographies = []\n",
    "for path in images_path:\n",
    "    image = cv2.imread(path)\n",
    "    H = calculate_homography(image)\n",
    "    homographies.append(H)"
   ]
  },
  {
   "cell_type": "markdown",
   "metadata": {},
   "source": [
    "2. per ogni omografia dalla relativa matrice costruire la matrice V + fare funzione che costruisce i vettori v, i, j"
   ]
  },
  {
   "cell_type": "markdown",
   "metadata": {},
   "source": [
    "3. data V trovare B applicando la singular value decomposition"
   ]
  },
  {
   "cell_type": "markdown",
   "metadata": {},
   "source": [
    "4. da B ottenere K e di conseguenza trovare R"
   ]
  }
 ],
 "metadata": {
  "colab": {
   "provenance": [
    {
     "file_id": "1inylUtH6uv3r5d2xmKbAbhN2lcDTBxGl",
     "timestamp": 1697967174775
    }
   ]
  },
  "kernelspec": {
   "display_name": ".venv",
   "language": "python",
   "name": "python3"
  },
  "language_info": {
   "codemirror_mode": {
    "name": "ipython",
    "version": 3
   },
   "file_extension": ".py",
   "mimetype": "text/x-python",
   "name": "python",
   "nbconvert_exporter": "python",
   "pygments_lexer": "ipython3",
   "version": "3.13.1"
  }
 },
 "nbformat": 4,
 "nbformat_minor": 0
}

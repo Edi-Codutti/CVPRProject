{
 "cells": [
  {
   "cell_type": "markdown",
   "metadata": {
    "id": "tzB1bMlRatfs"
   },
   "source": [
    "### Libraries\n",
    "Besides [Numpy](https://numpy.org/) and the Pyplot interface to [Matplotlib](https://matplotlib.org/), we will need [OpenCV](https://opencv.org/)."
   ]
  },
  {
   "cell_type": "code",
   "execution_count": 2,
   "metadata": {
    "colab": {
     "base_uri": "https://localhost:8080/"
    },
    "executionInfo": {
     "elapsed": 642,
     "status": "ok",
     "timestamp": 1729844600667,
     "user": {
      "displayName": "FELICE ANDREA PELLEGRINO",
      "userId": "15671707976733738277"
     },
     "user_tz": -120
    },
    "id": "IzDFnKL6V3SN",
    "outputId": "67a7cec0-c5a7-4c3d-8889-886bf2b9922e"
   },
   "outputs": [],
   "source": [
    "from matplotlib import pyplot as plt\n",
    "import os\n",
    "import numpy as np\n",
    "import cv2 # OpenCV\n",
    "from calibration import Calibrator"
   ]
  },
  {
   "cell_type": "markdown",
   "metadata": {},
   "source": [
    "1. Calcolare omografia per ogni immagine e c'è già la funzione di Edi"
   ]
  },
  {
   "cell_type": "code",
   "execution_count": 3,
   "metadata": {},
   "outputs": [
    {
     "name": "stdout",
     "output_type": "stream",
     "text": [
      "True\n",
      "eseguito\n",
      "[np.float64(3.3913191982671673), np.float64(3.0465297392724278), np.float64(26.7397359536844), np.float64(1.4687380109654402), np.float64(2.0926707585066806), np.float64(48.381874928154495), np.float64(9.83780286370121), np.float64(261.8423224784871), np.float64(13.974516320955427), np.float64(9.763160933292456), np.float64(6.933401866214631), np.float64(10.033768168021092), np.float64(7.347656839601976), np.float64(19.67950400520422), np.float64(19.915813215048367), np.float64(12.42458749893394), np.float64(53.66131107842198), np.float64(52.27735212586703), np.float64(11.108996191298717), np.float64(20.751577048909994)]\n",
      "[[1.74422018e+03 1.04745713e+00 6.32237773e+02]\n",
      " [0.00000000e+00 1.74503696e+03 4.97985133e+02]\n",
      " [0.00000000e+00 0.00000000e+00 1.00000000e+00]]\n",
      "[[-0.00381553]\n",
      " [ 0.10023698]]\n"
     ]
    }
   ],
   "source": [
    "calibrator = Calibrator()\n",
    "\n",
    "folderpath = './images'\n",
    "images_path = [os.path.join(folderpath, imagename) for imagename in os.listdir(folderpath) if imagename.endswith(\".tiff\")]\n",
    "images_path.sort()\n",
    "limages = []\n",
    "\n",
    "for path in images_path:\n",
    "    image = cv2.imread(path)\n",
    "    limages.append(image)\n",
    "\n",
    "\n",
    "calibrator.fit(limages, radial_distortion=True)\n",
    "\n",
    "print(calibrator.reprojection_errors)\n",
    "print(calibrator.K)\n",
    "\n",
    "print(calibrator.distortion_parameters)"
   ]
  },
  {
   "cell_type": "markdown",
   "metadata": {},
   "source": [
    "6. superimposition di un oggetto per tutte le immagini"
   ]
  },
  {
   "cell_type": "code",
   "execution_count": 4,
   "metadata": {},
   "outputs": [],
   "source": [
    "pts = cv2.ellipse2Poly((44,55), (22,22), 0, 0, 360, 1)\n",
    "pts = pts/1000\n",
    "et_low = np.empty_like(pts)\n",
    "et_high = np.empty_like(et_low)\n",
    "pts_low = np.hstack((pts, np.zeros((pts.shape[0],1)), np.ones((pts.shape[0],1))))\n",
    "pts_high = np.hstack((pts, np.full((pts.shape[0],1), 0.055), np.ones((pts.shape[0],1))))"
   ]
  },
  {
   "cell_type": "code",
   "execution_count": null,
   "metadata": {},
   "outputs": [],
   "source": [
    "for i,path in enumerate(images_path):\n",
    "    original = cv2.imread(path)\n",
    "    H, R, I = calibrator.estimate_homography(original)\n",
    "    P = calibrator.estimate_projection_matrix(H, calibrator.K)\n",
    "    error = calibrator.reprojection_error(P, R, I)\n",
    "    proj_chess = np.transpose(P@R.T)\n",
    "    proj_chess[:,0] = proj_chess[:,0]/proj_chess[:,2]\n",
    "    proj_chess[:,1] = proj_chess[:,1]/proj_chess[:,2]\n",
    "    proj_chess = proj_chess[:,:-1]\n",
    "    img1 = original.copy()\n",
    "    for point in proj_chess:\n",
    "        img1 = cv2.drawMarker(img1, tuple(np.array(point, dtype=np.int32)), (255,0,0), markerType=cv2.MARKER_STAR)\n",
    "    \n",
    "    proj_low = np.transpose(P @ pts_low.T)\n",
    "    et_low[:,0] = proj_low[:,0]/proj_low[:,2]\n",
    "    et_low[:,1] = proj_low[:,1]/proj_low[:,2]\n",
    "    proj_high = np.transpose(P @ pts_high.T)\n",
    "    et_high[:,0] = proj_high[:,0]/proj_high[:,2]\n",
    "    et_high[:,1] = proj_high[:,1]/proj_high[:,2]\n",
    "    #print(proj_high)\n",
    "    img2 = original.copy()\n",
    "    img2 = cv2.fillConvexPoly(img2,np.array(et_low, dtype=np.int32),(255,0,0))\n",
    "    img3 = cv2.fillConvexPoly(img2.copy(),np.array(et_high, dtype=np.int32),(0,255,0))\n",
    "    img4 = original.copy()\n",
    "    for i in range(et_low.shape[0]):\n",
    "        img4 = cv2.line(img4, tuple(np.array(et_low[i], dtype=np.int32)), tuple(np.array(et_high[i], dtype=np.int32)),(0,0,255))\n",
    "    img2 = cv2.addWeighted(img2, 0.5, original, 0.5, 0)\n",
    "    img3 = cv2.addWeighted(img2, 0.5, img3, 0.5, 0)\n",
    "    img4 = cv2.addWeighted(img3, 0.5, img4, 0.5, 0)\n",
    "    plt.figure(figsize=(20,20))\n",
    "    plt.imshow(img1)\n",
    "    plt.title(f\"Error: {error}\")\n",
    "    plt.figure(figsize=(20,20))\n",
    "    plt.imshow(img4)\n",
    "    plt.title(f\"{proj_high[0,2]}\")"
   ]
  }
 ],
 "metadata": {
  "colab": {
   "provenance": [
    {
     "file_id": "1inylUtH6uv3r5d2xmKbAbhN2lcDTBxGl",
     "timestamp": 1697967174775
    }
   ]
  },
  "kernelspec": {
   "display_name": ".venv",
   "language": "python",
   "name": "python3"
  },
  "language_info": {
   "codemirror_mode": {
    "name": "ipython",
    "version": 3
   },
   "file_extension": ".py",
   "mimetype": "text/x-python",
   "name": "python",
   "nbconvert_exporter": "python",
   "pygments_lexer": "ipython3",
   "version": "3.13.1"
  }
 },
 "nbformat": 4,
 "nbformat_minor": 0
}

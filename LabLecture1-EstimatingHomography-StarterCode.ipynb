{
 "cells": [
  {
   "cell_type": "markdown",
   "metadata": {
    "id": "tzB1bMlRatfs"
   },
   "source": [
    "### Libraries\n",
    "Besides [Numpy](https://numpy.org/) and the Pyplot interface to [Matplotlib](https://matplotlib.org/), we will need [OpenCV](https://opencv.org/)."
   ]
  },
  {
   "cell_type": "code",
   "execution_count": 232,
   "metadata": {
    "colab": {
     "base_uri": "https://localhost:8080/"
    },
    "executionInfo": {
     "elapsed": 642,
     "status": "ok",
     "timestamp": 1729844600667,
     "user": {
      "displayName": "FELICE ANDREA PELLEGRINO",
      "userId": "15671707976733738277"
     },
     "user_tz": -120
    },
    "id": "IzDFnKL6V3SN",
    "outputId": "67a7cec0-c5a7-4c3d-8889-886bf2b9922e"
   },
   "outputs": [],
   "source": [
    "from matplotlib import pyplot as plt\n",
    "import os\n",
    "import numpy as np\n",
    "import cv2 # OpenCV"
   ]
  },
  {
   "cell_type": "code",
   "execution_count": 233,
   "metadata": {
    "colab": {
     "base_uri": "https://localhost:8080/"
    },
    "executionInfo": {
     "elapsed": 35359,
     "status": "ok",
     "timestamp": 1729844636025,
     "user": {
      "displayName": "FELICE ANDREA PELLEGRINO",
      "userId": "15671707976733738277"
     },
     "user_tz": -120
    },
    "id": "BqPIcN-4GgeT",
    "outputId": "e382fe39-b90c-4868-e699-fd3dd6df7ff8"
   },
   "outputs": [],
   "source": [
    "folderpath = './images'"
   ]
  },
  {
   "cell_type": "markdown",
   "metadata": {},
   "source": [
    "1. Calcolare omografia per ogni immagine e c'è già la funzione di Edi"
   ]
  },
  {
   "cell_type": "code",
   "execution_count": 234,
   "metadata": {},
   "outputs": [],
   "source": [
    "grid_size = (8,11)\n",
    "def calculate_homography(image)->tuple[np.ndarray, np.ndarray, np.ndarray]:\n",
    "    return_value, corners = cv2.findChessboardCorners(image, patternSize=grid_size)\n",
    "    assert(return_value)\n",
    "    gray = cv2.cvtColor(image.copy(), cv2.COLOR_BGR2GRAY)\n",
    "    corners = corners.reshape((88,2)).copy()\n",
    "    criteria = (cv2.TERM_CRITERIA_MAX_ITER | cv2.TERM_CRITERIA_EPS, 100, 0.001)\n",
    "    cv2.cornerSubPix(gray, corners, (5,5), (-1,-1), criteria)\n",
    "    A = np.empty((0,9), dtype=float)\n",
    "    O = np.array([0,0,0]).reshape(1,3)\n",
    "    square_size = 11/1000 # meters\n",
    "    real_coords = []\n",
    "    pix_coords = []\n",
    "    for index, corner in enumerate(corners):\n",
    "        Xpix = corner[0] # in pixel\n",
    "        Ypix = corner[1]\n",
    "        pix_coords.append(np.array([Xpix, Ypix]))\n",
    "        grid_size_cv2 = tuple(reversed(grid_size)) # OpenCV and Python store matrices differently\n",
    "        u_index, v_index = np.unravel_index(index, grid_size_cv2) # convert index from linear to 2D (0-based indexing)\n",
    "        Xmm = u_index * square_size\n",
    "        Ymm = v_index * square_size\n",
    "        real_coords.append(np.array([Xmm, Ymm, 0, 1]))\n",
    "        m = np.array([Xmm, Ymm, 1]).reshape(1,3)\n",
    "        A = np.vstack((A, np.hstack((m,O,-Xpix*m))))\n",
    "        A = np.vstack((A, np.hstack((O,m,-Ypix*m))))\n",
    "\n",
    "    _, _, Vh = np.linalg.svd(A)\n",
    "    h = Vh.transpose()[:,-1]\n",
    "    H = h.reshape(3,3)\n",
    "    return H, np.array(real_coords), np.array(pix_coords)"
   ]
  },
  {
   "cell_type": "code",
   "execution_count": 235,
   "metadata": {},
   "outputs": [],
   "source": [
    "images_path = [os.path.join(folderpath, imagename) for imagename in os.listdir(folderpath) if imagename.endswith(\".tiff\")]\n",
    "images_path.sort()"
   ]
  },
  {
   "cell_type": "code",
   "execution_count": 236,
   "metadata": {},
   "outputs": [],
   "source": [
    "HH = []\n",
    "for path in images_path:\n",
    "    image = cv2.imread(path)\n",
    "    H, _, _ = calculate_homography(image)\n",
    "    HH.append(H)"
   ]
  },
  {
   "cell_type": "markdown",
   "metadata": {},
   "source": [
    "2. per ogni omografia dalla relativa matrice costruire la matrice V + fare funzione che costruisce i vettori v, i, j"
   ]
  },
  {
   "cell_type": "code",
   "execution_count": 237,
   "metadata": {},
   "outputs": [],
   "source": [
    "def vij_function (H, i, j):\n",
    "  v=np.zeros(6)\n",
    "  v[0]=H[0][i]*H[0][j]\n",
    "  v[1]=H[0][i]*H[1][j]+H[1][i]*H[0][j]\n",
    "  v[2]=H[1][i]*H[1][j]\n",
    "  v[3]=H[2][i]*H[0][j]+H[0][i]*H[2][j]\n",
    "  v[4]=H[2][i]*H[1][j]+H[1][i]*H[2][j]\n",
    "  v[5]=H[2][i]*H[2][j]\n",
    "  return v"
   ]
  },
  {
   "cell_type": "code",
   "execution_count": 238,
   "metadata": {},
   "outputs": [],
   "source": [
    "VV=np.zeros((0,6))\n",
    "\n",
    "for H in HH:\n",
    "  v11=vij_function(H, 0, 0)\n",
    "  v12=vij_function(H, 0, 1)\n",
    "  v22=vij_function(H, 1, 1)\n",
    "  V=np.array([v12.T, (v11-v22).T])\n",
    "  VV=np.vstack((VV, V))"
   ]
  },
  {
   "cell_type": "markdown",
   "metadata": {},
   "source": [
    "3. data V trovare B applicando la singular value decomposition"
   ]
  },
  {
   "cell_type": "code",
   "execution_count": 239,
   "metadata": {},
   "outputs": [
    {
     "name": "stdout",
     "output_type": "stream",
     "text": [
      "[[-2.66202724e-07  1.59809311e-10  1.68223842e-04]\n",
      " [ 1.59809311e-10 -2.65953699e-07  1.32339922e-04]\n",
      " [ 1.68223842e-04  1.32339922e-04 -9.99999977e-01]]\n",
      "[-1.00000002e+00 -2.66204763e-07 -2.20138534e-07]\n"
     ]
    }
   ],
   "source": [
    "U, Sigma, S_T = np.linalg.svd(VV)\n",
    "b = S_T.transpose()[:, -1]\n",
    "B = np.empty((3, 3))\n",
    "B[0, 0] = b[0]\n",
    "B[0, 1] = B[1, 0] = b[1]\n",
    "B[1, 1] = b[2]\n",
    "B[0, 2] = B[2, 0] = b[3]\n",
    "B[2, 1] = B[1, 2] = b[4]\n",
    "B[2, 2] = b[5]\n",
    "print(B)\n",
    "eigvals, _ = np.linalg.eigh(B)\n",
    "print(eigvals)"
   ]
  },
  {
   "cell_type": "markdown",
   "metadata": {},
   "source": [
    "4. da B ottenere K e di conseguenza trovare R"
   ]
  },
  {
   "cell_type": "code",
   "execution_count": 240,
   "metadata": {},
   "outputs": [],
   "source": [
    "def calculate_projection_matrix(H:np.ndarray, K:np.ndarray)->np.ndarray:\n",
    "    K_inv = np.linalg.inv(K)\n",
    "    h1 = H[:, 0]\n",
    "    h2 = H[:, 1]\n",
    "    h3 = H[:, 2]\n",
    "    lambdas = 1/np.linalg.norm(K_inv@h1)\n",
    "    r1 = lambdas * K_inv@h1\n",
    "    r2 = lambdas * K_inv@h2\n",
    "    t = lambdas * K_inv@h3\n",
    "    t = t.reshape((-1, 1))\n",
    "    r3 = np.cross(r1, r2)\n",
    "    R = np.hstack((r1.reshape((-1, 1)), r2.reshape((-1, 1)), r3.reshape((-1, 1))))\n",
    "    U, _ , V_t = np.linalg.svd(R)\n",
    "    R = U@V_t\n",
    "    P = K@np.hstack((R, t))\n",
    "    return P"
   ]
  },
  {
   "cell_type": "code",
   "execution_count": 241,
   "metadata": {},
   "outputs": [],
   "source": [
    "B11 = b[0]\n",
    "B12 = b[1]\n",
    "B22 = b[2]\n",
    "B13 = b[3]\n",
    "B23 = b[4]\n",
    "B33 = b[5]\n",
    "\n",
    "v0 = (B12 * B13 - B11 * B23)/(B11 * B22 - B12 * B12)\n",
    "l = B33 - (B13**2 + v0*(B12 * B13 - B11 * B13))/B11\n",
    "alpha = np.sqrt(l/B11)\n",
    "beta = np.sqrt(l * B11/(B11 * B22 - B12**2))\n",
    "gamma = - B12 * (alpha**2) * beta / l\n",
    "u0 = gamma * v0 / beta - B13 * (alpha**2) / l\n",
    "\n",
    "K = np.array([[alpha, gamma, u0], [0, beta, v0], [0, 0, 1]])\n",
    "\n",
    "K_inv = np.linalg.inv(K)\n",
    "projections = []\n",
    "\n",
    "for i, H in enumerate(HH):\n",
    "    P = calculate_projection_matrix(H, K)\n",
    "    projections.append(P)"
   ]
  },
  {
   "cell_type": "markdown",
   "metadata": {},
   "source": [
    "5. scegliamo un immagine, abbiamo bisogno di matrice di proiezione per l'immagine e i punti reali e proiettati dei corners della scacchiera che possiamo ricavare. Calcoliamo il reprojection error (pagina 45 lecture 3) (somma per ogni punto)"
   ]
  },
  {
   "cell_type": "code",
   "execution_count": 242,
   "metadata": {},
   "outputs": [],
   "source": [
    "#reprojection error\n",
    "def reprojection_error (P:np.ndarray, R:np.ndarray, I:np.ndarray):\n",
    "  epsilon_tot=0\n",
    "  for i in range(R.shape[0]):\n",
    "    u = np.dot(P[0], R[i])/np.dot(P[2], R[i])\n",
    "    v = np.dot(P[1], R[i])/np.dot(P[2], R[i])\n",
    "\n",
    "    #print(R[i], I[i], u, v)\n",
    "    epsilon = ((np.dot(P[0], R[i]) / np.dot(P[2], R[i]))-I[i][0])**2 + ((np.dot(P[1], R[i]) / np.dot(P[2], R[i]))-I[i][1])**2\n",
    "    #print(epsilon)\n",
    "    epsilon_tot += epsilon\n",
    "  return epsilon_tot"
   ]
  },
  {
   "cell_type": "code",
   "execution_count": 243,
   "metadata": {},
   "outputs": [],
   "source": [
    "image = cv2.imread(images_path[0])\n",
    "H, R, I = calculate_homography(image)"
   ]
  },
  {
   "cell_type": "code",
   "execution_count": 244,
   "metadata": {},
   "outputs": [
    {
     "name": "stdout",
     "output_type": "stream",
     "text": [
      "[[ 5.59249311e+02 -1.44730028e+03 -1.01714876e+03  5.04652768e+02]\n",
      " [-1.66336676e+03 -4.77939884e+02 -5.45826980e+02  3.52600998e+02]\n",
      " [-4.60282007e-02  2.28763556e-01 -9.72393254e-01  5.53243530e-01]]\n"
     ]
    }
   ],
   "source": [
    "P = calculate_projection_matrix(H, K)\n",
    "print(P)"
   ]
  },
  {
   "cell_type": "code",
   "execution_count": 245,
   "metadata": {},
   "outputs": [
    {
     "name": "stdout",
     "output_type": "stream",
     "text": [
      "3.389381486364584\n"
     ]
    }
   ],
   "source": [
    "error = reprojection_error(P, R, I)\n",
    "print(error)"
   ]
  },
  {
   "cell_type": "markdown",
   "metadata": {},
   "source": [
    "6. superimposition di un oggetto per tutte le immagini"
   ]
  },
  {
   "cell_type": "code",
   "execution_count": 246,
   "metadata": {},
   "outputs": [],
   "source": [
    "pts = cv2.ellipse2Poly((44,55), (22,22), 0, 0, 360, 1)\n",
    "pts = pts/1000\n",
    "et_low = np.empty_like(pts)\n",
    "et_high = np.empty_like(et_low)\n",
    "pts_low = np.hstack((pts, np.zeros((pts.shape[0],1)), np.ones((pts.shape[0],1))))\n",
    "pts_high = np.hstack((pts, np.full((pts.shape[0],1), 0.055), np.ones((pts.shape[0],1))))"
   ]
  },
  {
   "cell_type": "code",
   "execution_count": 250,
   "metadata": {},
   "outputs": [],
   "source": [
    "for i,path in enumerate(images_path):\n",
    "    original = cv2.imread(path)\n",
    "    H, R, I = calculate_homography(original)\n",
    "    P = calculate_projection_matrix(H, K)\n",
    "    error = reprojection_error(P, R, I)\n",
    "    proj_chess = np.transpose(P@R.T)\n",
    "    proj_chess[:,0] = proj_chess[:,0]/proj_chess[:,2]\n",
    "    proj_chess[:,1] = proj_chess[:,1]/proj_chess[:,2]\n",
    "    proj_chess = proj_chess[:,:-1]\n",
    "    img1 = original.copy()\n",
    "    for point in proj_chess:\n",
    "        img1 = cv2.drawMarker(img1, tuple(np.array(point, dtype=np.int32)), (255,0,0), markerType=cv2.MARKER_STAR)\n",
    "    \n",
    "    proj_low = np.transpose(P @ pts_low.T)\n",
    "    et_low[:,0] = proj_low[:,0]/proj_low[:,2]\n",
    "    et_low[:,1] = proj_low[:,1]/proj_low[:,2]\n",
    "    proj_high = np.transpose(P @ pts_high.T)\n",
    "    et_high[:,0] = proj_high[:,0]/proj_high[:,2]\n",
    "    et_high[:,1] = proj_high[:,1]/proj_high[:,2]\n",
    "    #print(proj_high)\n",
    "    img2 = original.copy()\n",
    "    img2 = cv2.fillConvexPoly(img2,np.array(et_low, dtype=np.int32),(255,0,0))\n",
    "    img3 = cv2.fillConvexPoly(img2.copy(),np.array(et_high, dtype=np.int32),(0,255,0))\n",
    "    img4 = original.copy()\n",
    "    for i in range(et_low.shape[0]):\n",
    "        img4 = cv2.line(img4, tuple(np.array(et_low[i], dtype=np.int32)), tuple(np.array(et_high[i], dtype=np.int32)),(0,0,255))\n",
    "    img2 = cv2.addWeighted(img2, 0.5, original, 0.5, 0)\n",
    "    img3 = cv2.addWeighted(img2, 0.5, img3, 0.5, 0)\n",
    "    img4 = cv2.addWeighted(img3, 0.5, img4, 0.5, 0)\n",
    "    plt.figure(figsize=(20,20))\n",
    "    plt.imshow(img1)\n",
    "    plt.title(f\"Error: {error}\")\n",
    "    plt.figure(figsize=(20,20))\n",
    "    plt.imshow(img4)\n",
    "    plt.title(f\"{proj_high[0,2]}\")"
   ]
  },
  {
   "cell_type": "code",
   "execution_count": null,
   "metadata": {},
   "outputs": [],
   "source": [
    "from calibration import Calibrator\n",
    "import os\n",
    "import cv2\n",
    "\n",
    "folderpath = './images'\n",
    "images_path = [os.path.join(folderpath, imagename) for imagename in os.listdir(folderpath) if imagename.endswith(\".tiff\")]\n",
    "images_path.sort()\n",
    "limages = []\n",
    "\n",
    "for path in images_path:\n",
    "    image = cv2.imread(path)\n",
    "    limages.append(image)\n",
    "\n",
    "calibrator = Calibrator()\n",
    "\n",
    "calibrator.fit(limages, radial_distortion=True)\n",
    "\n",
    "print(calibrator.reprojection_errors)\n",
    "print(calibrator.K)\n",
    "\n",
    "print(calibrator.distortion_parameters)\n",
    "\n"
   ]
  }
 ],
 "metadata": {
  "colab": {
   "provenance": [
    {
     "file_id": "1inylUtH6uv3r5d2xmKbAbhN2lcDTBxGl",
     "timestamp": 1697967174775
    }
   ]
  },
  "kernelspec": {
   "display_name": ".venv",
   "language": "python",
   "name": "python3"
  },
  "language_info": {
   "codemirror_mode": {
    "name": "ipython",
    "version": 3
   },
   "file_extension": ".py",
   "mimetype": "text/x-python",
   "name": "python",
   "nbconvert_exporter": "python",
   "pygments_lexer": "ipython3",
   "version": "3.13.1"
  }
 },
 "nbformat": 4,
 "nbformat_minor": 0
}

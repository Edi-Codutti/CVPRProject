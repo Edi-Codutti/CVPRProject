{
 "cells": [
  {
   "cell_type": "markdown",
   "metadata": {
    "id": "tzB1bMlRatfs"
   },
   "source": [
    "### Libraries\n",
    "Besides [Numpy](https://numpy.org/) and the Pyplot interface to [Matplotlib](https://matplotlib.org/), we will need [OpenCV](https://opencv.org/)."
   ]
  },
  {
   "cell_type": "code",
   "execution_count": 52,
   "metadata": {
    "colab": {
     "base_uri": "https://localhost:8080/"
    },
    "executionInfo": {
     "elapsed": 642,
     "status": "ok",
     "timestamp": 1729844600667,
     "user": {
      "displayName": "FELICE ANDREA PELLEGRINO",
      "userId": "15671707976733738277"
     },
     "user_tz": -120
    },
    "id": "IzDFnKL6V3SN",
    "outputId": "67a7cec0-c5a7-4c3d-8889-886bf2b9922e"
   },
   "outputs": [
    {
     "name": "stdout",
     "output_type": "stream",
     "text": [
      "4.6.0\n"
     ]
    }
   ],
   "source": [
    "from matplotlib import pyplot as plt\n",
    "\n",
    "import os\n",
    "\n",
    "import numpy as np\n",
    "\n",
    "import cv2 # OpenCV\n",
    "print (cv2.__version__)"
   ]
  },
  {
   "cell_type": "code",
   "execution_count": 53,
   "metadata": {
    "colab": {
     "base_uri": "https://localhost:8080/"
    },
    "executionInfo": {
     "elapsed": 35359,
     "status": "ok",
     "timestamp": 1729844636025,
     "user": {
      "displayName": "FELICE ANDREA PELLEGRINO",
      "userId": "15671707976733738277"
     },
     "user_tz": -120
    },
    "id": "BqPIcN-4GgeT",
    "outputId": "e382fe39-b90c-4868-e699-fd3dd6df7ff8"
   },
   "outputs": [],
   "source": [
    "folderpath = './images'"
   ]
  },
  {
   "cell_type": "markdown",
   "metadata": {},
   "source": [
    "1. Calcolare omografia per ogni immagine e c'è già la funzione di Edi"
   ]
  },
  {
   "cell_type": "code",
   "execution_count": 54,
   "metadata": {},
   "outputs": [],
   "source": [
    "grid_size = (8,11)\n",
    "def calculate_homography(image)->tuple[np.ndarray, np.ndarray, np.ndarray]:\n",
    "    return_value, corners = cv2.findChessboardCorners(image, patternSize=grid_size)\n",
    "    assert(return_value)\n",
    "    gray = cv2.cvtColor(image.copy(), cv2.COLOR_BGR2GRAY)\n",
    "    corners = corners.reshape((88,2)).copy()\n",
    "    criteria = (cv2.TERM_CRITERIA_MAX_ITER | cv2.TERM_CRITERIA_EPS, 100, 0.001)\n",
    "    cv2.cornerSubPix(gray, corners, (5,5), (-1,-1), criteria)\n",
    "    A = np.empty((0,9), dtype=float)\n",
    "    O = np.array([0,0,0]).reshape(1,3)\n",
    "    square_size = 11 # mm\n",
    "    real_coords = []\n",
    "    pix_coords = []\n",
    "    for index, corner in enumerate(corners):\n",
    "        Xpix = corner[0] # in pixel\n",
    "        Ypix = corner[1]\n",
    "        pix_coords.append(np.array([Xpix, Ypix]))\n",
    "        grid_size_cv2 = tuple(reversed(grid_size)) # OpenCV and Python store matrices differently\n",
    "        u_index, v_index = np.unravel_index(index, grid_size_cv2) # convert index from linear to 2D (0-based indexing)\n",
    "        Xmm = u_index * square_size\n",
    "        Ymm = v_index * square_size\n",
    "        real_coords.append(np.array([Xmm, Ymm, 0, 1]))\n",
    "        m = np.array([Xmm, Ymm, 1]).reshape(1,3)\n",
    "        A = np.vstack((A, np.hstack((m,O,-Xpix*m))))\n",
    "        A = np.vstack((A, np.hstack((O,m,-Ypix*m))))\n",
    "\n",
    "    _, _, Vh = np.linalg.svd(A)\n",
    "    h = Vh.transpose()[:,-1]\n",
    "    H = h.reshape(3,3)\n",
    "    return H, np.array(real_coords), np.array(pix_coords)"
   ]
  },
  {
   "cell_type": "code",
   "execution_count": 55,
   "metadata": {},
   "outputs": [],
   "source": [
    "images_path = [os.path.join(folderpath, imagename) for imagename in os.listdir(folderpath) if imagename.endswith(\".tiff\")]\n",
    "images_path.sort()"
   ]
  },
  {
   "cell_type": "code",
   "execution_count": 56,
   "metadata": {},
   "outputs": [],
   "source": [
    "HH = []\n",
    "for path in images_path:\n",
    "    image = cv2.imread(path)\n",
    "    H, _, _ = calculate_homography(image)\n",
    "    HH.append(H)"
   ]
  },
  {
   "cell_type": "markdown",
   "metadata": {},
   "source": [
    "2. per ogni omografia dalla relativa matrice costruire la matrice V + fare funzione che costruisce i vettori v, i, j"
   ]
  },
  {
   "cell_type": "code",
   "execution_count": 57,
   "metadata": {},
   "outputs": [],
   "source": [
    "def vij_function (H, i, j):\n",
    "  v=np.zeros(6)\n",
    "  v[0]=H[0][i]*H[0][j]\n",
    "  v[1]=H[0][i]*H[1][j]+H[1][i]*H[0][j]\n",
    "  v[2]=H[1][i]*H[1][j]\n",
    "  v[3]=H[2][i]*H[0][j]+H[0][i]*H[2][j]\n",
    "  v[4]=H[2][i]*H[1][j]+H[1][i]*H[2][j]\n",
    "  v[5]=H[2][i]*H[2][j]\n",
    "  return v"
   ]
  },
  {
   "cell_type": "code",
   "execution_count": 64,
   "metadata": {},
   "outputs": [],
   "source": [
    "VV=np.zeros((0,6))\n",
    "\n",
    "for H in HH:\n",
    "  v11=vij_function(H, 0, 0)\n",
    "  v12=vij_function(H, 0, 1)\n",
    "  v22=vij_function(H, 1, 1)\n",
    "  V=np.array([v12.T, (v11-v22).T])\n",
    "  VV=np.vstack((VV, V))"
   ]
  },
  {
   "cell_type": "markdown",
   "metadata": {},
   "source": [
    "3. data V trovare B applicando la singular value decomposition"
   ]
  },
  {
   "cell_type": "code",
   "execution_count": 65,
   "metadata": {},
   "outputs": [
    {
     "name": "stdout",
     "output_type": "stream",
     "text": [
      "[[-2.67657637e-07 -2.65566705e-10  1.66641910e-04]\n",
      " [-2.65566705e-10 -2.68512654e-07  1.34342849e-04]\n",
      " [ 1.66641910e-04  1.34342849e-04 -9.99999977e-01]]\n",
      "[-1.00000002e+00 -2.67921276e-07 -2.22431477e-07]\n"
     ]
    }
   ],
   "source": [
    "U, Sigma, S_T = np.linalg.svd(VV)\n",
    "b = S_T.transpose()[:, -1]\n",
    "B = np.empty((3, 3))\n",
    "B[0, 0] = b[0]\n",
    "B[0, 1] = B[1, 0] = b[1]\n",
    "B[1, 1] = b[2]\n",
    "B[0, 2] = B[2, 0] = b[3]\n",
    "B[2, 1] = B[1, 2] = b[4]\n",
    "B[2, 2] = b[5]\n",
    "print(B)\n",
    "eigvals, _ = np.linalg.eigh(B)\n",
    "print(eigvals)"
   ]
  },
  {
   "cell_type": "markdown",
   "metadata": {},
   "source": [
    "4. da B ottenere K e di conseguenza trovare R"
   ]
  },
  {
   "cell_type": "code",
   "execution_count": 66,
   "metadata": {},
   "outputs": [],
   "source": [
    "def calculate_projection_matrix(H:np.ndarray, K:np.ndarray)->np.ndarray:\n",
    "    K_inv = np.linalg.inv(K)\n",
    "    h1 = H[0, :]\n",
    "    h2 = H[1, :]\n",
    "    h3 = H[2, :]\n",
    "    lambdas = 1/np.linalg.norm(K_inv@h1)\n",
    "    r1 = lambdas * K_inv@h1\n",
    "    r2 = lambdas * K_inv@h2\n",
    "    t = lambdas * K_inv@h3\n",
    "    t = t.reshape((-1, 1))\n",
    "    r3 = np.cross(r1, r2)\n",
    "    R = np.hstack((r1.reshape((-1, 1)), r2.reshape((-1, 1)), r3.reshape((-1, 1))))\n",
    "    U, _ , V_t = np.linalg.svd(R)\n",
    "    R = U@V_t\n",
    "    P = K@np.hstack((R, t))\n",
    "    return P"
   ]
  },
  {
   "cell_type": "code",
   "execution_count": 67,
   "metadata": {},
   "outputs": [
    {
     "name": "stdout",
     "output_type": "stream",
     "text": [
      "K: [[ 1.74289634e+03 -1.72652630e+00  6.22097716e+02]\n",
      " [ 0.00000000e+00  1.74012006e+03  4.99706956e+02]\n",
      " [ 0.00000000e+00  0.00000000e+00  1.00000000e+00]]\n",
      "[[ 9.97703752e+02 -1.42821030e+03 -6.24098382e+02 -9.09841365e-08]\n",
      " [-2.58486652e+02  3.70018875e+02 -1.75328136e+03  4.15242018e-07]\n",
      " [ 8.78926311e-01  3.29219608e-01 -3.45113009e-01  9.96533826e-04]]\n"
     ]
    }
   ],
   "source": [
    "B11 = b[0]\n",
    "B12 = b[1]\n",
    "B22 = b[2]\n",
    "B13 = b[3]\n",
    "B23 = b[4]\n",
    "B33 = b[5]\n",
    "\n",
    "v0 = (B12 * B13 - B11 * B23)/(B11 * B22 - B12 * B12)\n",
    "l = B33 - (B13**2 + v0*(B12 * B13 - B11 * B13))/B11\n",
    "alpha = np.sqrt(l/B11)\n",
    "beta = np.sqrt(l * B11/(B11 * B22 - B12**2))\n",
    "gamma = - B12 * (alpha**2) * beta / l\n",
    "u0 = gamma * v0 / beta - B13 * (alpha**2) / l\n",
    "\n",
    "K = np.array([[alpha, gamma, u0], [0, beta, v0], [0, 0, 1]])\n",
    "\n",
    "K_inv = np.linalg.inv(K)\n",
    "print(\"K:\",K)\n",
    "projections = []\n",
    "\n",
    "for i, H in enumerate(HH):\n",
    "    P = calculate_projection_matrix(H, K)\n",
    "    projections.append(P)\n",
    "\n",
    "print(projections[0])"
   ]
  },
  {
   "cell_type": "markdown",
   "metadata": {},
   "source": [
    "5. scegliamo un immagine, abbiamo bisogno di matrice di proiezione per l'immagine e i punti reali e proiettati dei corners della scacchiera che possiamo ricavare. Calcoliamo il reprojection error (pagina 45 lecture 3) (somma per ogni punto)"
   ]
  },
  {
   "cell_type": "code",
   "execution_count": 68,
   "metadata": {},
   "outputs": [],
   "source": [
    "#reprojection error\n",
    "def reprojection_error (P, R, I):\n",
    "  epsilon_tot=0\n",
    "  for i in range(R.shape[0]):\n",
    "    u = np.dot(P[0], R[i])/np.dot(P[2], R[i])\n",
    "    v = np.dot(P[1], R[i])/np.dot(P[2], R[i])\n",
    "\n",
    "    print(I[i], u, v)\n",
    "    epsilon = ((np.dot(P[0], R[i]) / np.dot(P[2], R[i]))-I[i][0])**2 + ((np.dot(P[1], R[i]) / np.dot(P[2], R[i]))-I[i][1])**2\n",
    "    print(epsilon)\n",
    "    epsilon_tot += epsilon\n",
    "  return epsilon_tot"
   ]
  },
  {
   "cell_type": "code",
   "execution_count": 69,
   "metadata": {},
   "outputs": [
    {
     "name": "stdout",
     "output_type": "stream",
     "text": [
      "[912.47363 637.17303] -9.130060024827479e-05 0.0004166863249987732\n",
      "1238597.242302412\n",
      "[879.451  625.0109] -4336.975554222051 1123.6180139773894\n",
      "27459714.907313466\n",
      "[846.93445 612.697  ] -4337.572192188438 1123.7725901155243\n",
      "27140307.3415209\n",
      "[814.67645 600.5078 ] -4337.771107992026 1123.8241249464686\n",
      "26821575.827901676\n",
      "[783.1954 588.5846] -4337.870572735506 1123.849894134475\n",
      "26511825.366803277\n",
      "[751.39984 576.4841 ] -4337.930253771114 1123.865356214537\n",
      "26200907.08937434\n",
      "[720.43195 564.9018 ] -4337.970042040527 1123.8756645042797\n",
      "25899882.458018698\n",
      "[689.0787  553.30023] -4337.99846267984 1123.8830276841572\n",
      "25597069.2681169\n",
      "[924.03723 604.51776] 1135.022257087535 -294.06334589673816\n",
      "851962.6871312063\n",
      "[891.58984 592.5114 ] -356.30982710148567 92.30992558916944\n",
      "1807455.1170937035\n",
      "[858.7034 580.3515] -1208.9560233536233 313.21290471678697\n",
      "4346578.645642036\n",
      "[826.42566 568.58765] -1760.845272897627 456.1959848133809\n",
      "6706602.761585385\n",
      "[794.5664 556.4113] -2147.2505312262756 556.305588410479\n",
      "8654286.9048006\n",
      "[763.3326  544.67804] -2432.8982474967133 630.310998605824\n",
      "10223224.509937577\n",
      "[731.7699  533.40314] -2652.6526163655294 687.2448065238223\n",
      "11477983.011313638\n",
      "[700.54425 521.57465] -2826.956244647847 732.4032684152428\n",
      "12487708.451216787\n",
      "[936.01935 572.43646] 1135.0807494186217 -294.0785002018371\n",
      "790473.6218941293\n",
      "[903.349   560.26434] 271.7551319686212 -70.40870408857425\n",
      "796659.305555362\n",
      "[870.4885  548.23254] -356.323185714813 92.31338641808306\n",
      "1712929.2527057913\n",
      "[838.19745 536.43317] -833.7782925989517 216.0121209991825\n",
      "2898172.5259964056\n",
      "[806.43567 524.69946] -1208.9916430243256 313.222132948675\n",
      "4106669.9109125375\n",
      "[774.60626 513.0612 ] -1511.6279693799636 391.6289403504636\n",
      "5241612.759798892\n",
      "[743.20105 501.51547] -1760.888002829001 456.2070551820442\n",
      "6272514.836191776\n",
      "[711.75946 489.9656 ] -1969.748437542467 510.31847027762814\n",
      "7190898.846048027\n",
      "[948.17065 539.5172 ] 1135.1002482020508 -294.0835519839708\n",
      "729832.9066489385\n",
      "[915.4745 527.5409] 527.5974149977134 -136.69214357508187\n",
      "591654.1508360673\n",
      "[882.32935 515.4698 ] 41.48038206815822 -10.749283258251037\n",
      "983933.4901784521\n",
      "[849.6847  504.35846] -356.3276388085184 92.31454008538923\n",
      "1624245.9344895687\n",
      "[817.9023  492.43344] -687.8865198963714 178.21458270681987\n",
      "2366133.409078262\n",
      "[786.4797 480.8376] -968.473413411618 250.90883849901533\n",
      "3132727.5722278594\n",
      "[754.6584 469.536 ] -1209.0035167143278 313.22520914681354\n",
      "3880401.135772168\n",
      "[723.5475  458.21136] -1417.4831413737938 367.2379642423491\n",
      "4592288.304175187\n",
      "[960.3334 506.9888] 1135.1099978449847 -294.086077940124\n",
      "672267.8283794732\n",
      "[927.2254  495.32867] 666.4744908919032 -172.67231912350337\n",
      "514216.36531431455\n",
      "[894.141   483.53885] 271.76102990873954 -70.41023218718124\n",
      "694216.4006423242\n",
      "[861.7621 471.8896] -65.24233047045338 16.900362316206447\n",
      "1066352.3811737783\n",
      "[829.7901  460.47937] -356.32986539711027 92.31511692985563\n",
      "1542425.4898702921\n",
      "[797.8378  449.01605] -610.2869492344204 158.1101402887717\n",
      "2067441.6423506036\n",
      "[765.9533  438.16083] -833.7920485137323 216.01568482298063\n",
      "2608533.670500431\n",
      "[734.63544 426.4895 ] -1032.0125945065417 267.3705250060129\n",
      "3146364.11609204\n",
      "[972.4012  474.50507] 1135.1158477111378 -294.08759353464427\n",
      "617210.7379243736\n",
      "[939.13104 462.52277] 753.6732344588683 -195.2637085298557\n",
      "467077.644779623\n",
      "[906.08777 450.8238 ] 421.9335214066793 -109.31681608732389\n",
      "548162.8353041271\n",
      "[873.579   439.51962] 130.77630103034002 -33.88400741537869\n",
      "775866.8162337827\n",
      "[841.5573  428.43488] -126.81601419130959 32.8528291444785\n",
      "1094232.0542910672\n",
      "[809.7053  416.80734] -356.3312013636222 92.3154630399959\n",
      "1464936.1542918792\n",
      "[777.86395 405.88843] -562.1225493414189 145.63174129779017\n",
      "1863297.3683185566\n",
      "[746.3445  394.71765] -747.6876177337675 193.70780921100743\n",
      "2272536.8729391326\n",
      "[984.1506  441.50797] 1135.1197476554041 -294.08860393966967\n",
      "563894.0038406956\n",
      "[950.9584  429.65408] 813.514107349129 -210.76723996367406\n",
      "429030.3976708932\n",
      "[918.01685 418.47424] 527.6054723904441 -136.6942311240719\n",
      "460633.0752553084\n",
      "[885.3286  406.84412] 271.76299594567007 -70.41074156812344\n",
      "604234.966050103\n",
      "[853.38965 395.7707 ] 41.480952262530906 -10.749431024607558\n",
      "824454.3404687454\n",
      "[821.15314 384.5684 ] -166.88891180592321 43.23488737584816\n",
      "1092735.650558056\n",
      "[789.43195 373.76855] -356.33209201352884 92.31569378153125\n",
      "1391990.9432607065\n",
      "[757.7712  362.91144] -529.315287780555 137.13205895009338\n",
      "1707567.9014813462\n",
      "[996.42017 408.5006 ] 1135.122533346287 -294.0893256617958\n",
      "512870.96489038476\n",
      "[962.96295 397.21497] 857.1262279576339 -222.0662376235074\n",
      "394710.6210229099\n",
      "[929.8759 385.6844] 606.0045802292533 -157.00581706368996\n",
      "399405.2996391652\n",
      "[897.32697 374.5903 ] 378.04020579183776 -97.94496664431067\n",
      "492948.31828689127\n",
      "[864.7764  363.44247] 170.17110202393667 -44.090384871416624\n",
      "648559.5905412296\n",
      "[832.759 352.642] -20.14768607693674 5.217273414063066\n",
      "848153.7071343183\n",
      "[800.8569  341.52396] -195.04878074874634 50.53052648744341\n",
      "1076505.2464829131\n",
      "[769.1467 331.0722] -356.3327281947596 92.3158585976198\n",
      "1323708.600228661\n",
      "[1008.5193   375.53775] 1135.124622623422 -294.089866955715\n",
      "464430.05669738085\n",
      "[975.1949  364.41232] 890.3231074783881 -230.66686191751663\n",
      "361322.4549825483\n",
      "[941.8388 353.1267] 666.4823425247364 -172.67435335400236\n",
      "352287.9392176681\n",
      "[909.21204 342.22855] 461.02075187293974 -119.4435083923407\n",
      "414016.51322500716\n",
      "[876.5491  331.42514] 271.7639789748026 -70.4109962613584\n",
      "527237.2897783318\n",
      "[844.6198  320.46573] 96.86763910952277 -25.098975059748067\n",
      "678548.2766058238\n",
      "[812.45575 309.74292] -65.24298670153324 16.900532302241743\n",
      "856111.7355371072\n",
      "[780.75275 298.8915 ] -215.9204982272316 55.937956425110485\n",
      "1052383.9861180368\n",
      "[1020.56573  342.40903] 1135.1262476220663 -294.0902879634742\n",
      "418255.4891593303\n",
      "[986.98694 331.5184 ] 916.4377392155975 -237.43262241641312\n",
      "328682.4578141949\n",
      "[953.8196  320.47357] 714.5534473376737 -185.1285815147088\n",
      "312881.81969013147\n",
      "[921.00287 309.53317] 527.6081582427108 -136.69492698790452\n",
      "353878.91504673543\n",
      "[888.5617  298.92575] 354.00285286830723 -91.71738609756939\n",
      "438355.2283943435\n",
      "[856.1528  288.14108] 192.35885517618613 -49.8387724215926\n",
      "554852.745190579\n",
      "[824.1734  277.48163] 41.48114233080532 -10.74948028096248\n",
      "695684.3436129423\n",
      "[792.1684  267.07175] -99.67125023192648 25.820182694296808\n",
      "853580.2717801966\n",
      "[1032.9867   309.35477] 1135.1275476243318 -294.0906247705495\n",
      "374579.09457337385\n",
      "[999.2104  298.49625] 937.5180665388691 -242.8940988539454\n",
      "296909.4484168515\n",
      "[965.94904 287.4833 ] 753.6804613604206 -195.2655808989066\n",
      "278104.43628498155\n",
      "[932.569   276.50937] 582.2235182890178 -150.84463620880618\n",
      "305373.3810225097\n",
      "[900.063   266.45496] 421.9373036913631 -109.31779602559557\n",
      "369809.3314705378\n",
      "[867.77313 255.53806] 271.7645687956958 -70.41114907818378\n",
      "461469.0917122812\n",
      "[835.55237 245.47476] 130.77740162635695 -33.884292582001954\n",
      "574749.2348144401\n",
      "[803.5506  234.49039] -1.84196383260745 0.47463970944538547\n",
      "703420.5488506877\n",
      "336550295.6477962\n"
     ]
    }
   ],
   "source": [
    "image = cv2.imread(images_path[0])\n",
    "H, R, I = calculate_homography(image)\n",
    "R = R/1000\n",
    "I = I\n",
    "P = calculate_projection_matrix(H, K)\n",
    "error = reprojection_error(P, R, I)\n",
    "print(error)"
   ]
  },
  {
   "cell_type": "markdown",
   "metadata": {},
   "source": [
    "6. superimposition di un oggetto per tutte le immagini"
   ]
  }
 ],
 "metadata": {
  "colab": {
   "provenance": [
    {
     "file_id": "1inylUtH6uv3r5d2xmKbAbhN2lcDTBxGl",
     "timestamp": 1697967174775
    }
   ]
  },
  "kernelspec": {
   "display_name": "Python 3 (ipykernel)",
   "language": "python",
   "name": "python3"
  },
  "language_info": {
   "codemirror_mode": {
    "name": "ipython",
    "version": 3
   },
   "file_extension": ".py",
   "mimetype": "text/x-python",
   "name": "python",
   "nbconvert_exporter": "python",
   "pygments_lexer": "ipython3",
   "version": "3.11.2"
  }
 },
 "nbformat": 4,
 "nbformat_minor": 0
}

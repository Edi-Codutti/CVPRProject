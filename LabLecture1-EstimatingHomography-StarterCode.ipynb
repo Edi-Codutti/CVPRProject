{
 "cells": [
  {
   "cell_type": "markdown",
   "metadata": {
    "id": "tzB1bMlRatfs"
   },
   "source": [
    "### Libraries\n",
    "Besides [Numpy](https://numpy.org/) and the Pyplot interface to [Matplotlib](https://matplotlib.org/), we will need [OpenCV](https://opencv.org/)."
   ]
  },
  {
   "cell_type": "code",
   "execution_count": 71,
   "metadata": {
    "colab": {
     "base_uri": "https://localhost:8080/"
    },
    "executionInfo": {
     "elapsed": 642,
     "status": "ok",
     "timestamp": 1729844600667,
     "user": {
      "displayName": "FELICE ANDREA PELLEGRINO",
      "userId": "15671707976733738277"
     },
     "user_tz": -120
    },
    "id": "IzDFnKL6V3SN",
    "outputId": "67a7cec0-c5a7-4c3d-8889-886bf2b9922e"
   },
   "outputs": [
    {
     "name": "stdout",
     "output_type": "stream",
     "text": [
      "4.10.0\n"
     ]
    }
   ],
   "source": [
    "from matplotlib import pyplot as plt\n",
    "\n",
    "import os\n",
    "\n",
    "import numpy as np\n",
    "\n",
    "import cv2 # OpenCV\n",
    "print (cv2.__version__)"
   ]
  },
  {
   "cell_type": "code",
   "execution_count": 72,
   "metadata": {
    "colab": {
     "base_uri": "https://localhost:8080/"
    },
    "executionInfo": {
     "elapsed": 35359,
     "status": "ok",
     "timestamp": 1729844636025,
     "user": {
      "displayName": "FELICE ANDREA PELLEGRINO",
      "userId": "15671707976733738277"
     },
     "user_tz": -120
    },
    "id": "BqPIcN-4GgeT",
    "outputId": "e382fe39-b90c-4868-e699-fd3dd6df7ff8"
   },
   "outputs": [],
   "source": [
    "folderpath = './images'"
   ]
  },
  {
   "cell_type": "markdown",
   "metadata": {},
   "source": [
    "1. Calcolare omografia per ogni immagine e c'è già la funzione di Edi"
   ]
  },
  {
   "cell_type": "code",
   "execution_count": 73,
   "metadata": {},
   "outputs": [],
   "source": [
    "grid_size = (8,11)\n",
    "def calculate_homography(image)->np.ndarray:\n",
    "    return_value, corners = cv2.findChessboardCorners(image, patternSize=grid_size)\n",
    "    assert(return_value)\n",
    "    gray = cv2.cvtColor(image.copy(), cv2.COLOR_BGR2GRAY)\n",
    "    corners = corners.reshape((88,2)).copy()\n",
    "    criteria = (cv2.TERM_CRITERIA_MAX_ITER | cv2.TERM_CRITERIA_EPS, 100, 0.001)\n",
    "    cv2.cornerSubPix(gray, corners, (5,5), (-1,-1), criteria)\n",
    "    A = np.empty((0,9), dtype=float)\n",
    "    O = np.array([0,0,0]).reshape(1,3)\n",
    "    square_size = 11 # mm\n",
    "    for index, corner in enumerate(corners):\n",
    "        Xpix = corner[0] # in pixel\n",
    "        Ypix = corner[1]\n",
    "        grid_size_cv2 = tuple(reversed(grid_size)) # OpenCV and Python store matrices differently\n",
    "        u_index, v_index = np.unravel_index(index, grid_size_cv2) # convert index from linear to 2D (0-based indexing)\n",
    "        Xmm = u_index * square_size\n",
    "        Ymm = v_index * square_size\n",
    "        m = np.array([Xmm, Ymm, 1]).reshape(1,3)\n",
    "        A = np.vstack((A, np.hstack((m,O,-Xpix*m))))\n",
    "        A = np.vstack((A, np.hstack((O,m,-Ypix*m))))\n",
    "\n",
    "    _, _, Vh = np.linalg.svd(A)\n",
    "    h = Vh.transpose()[:,-1]\n",
    "    H = h.reshape(3,3)\n",
    "    return H"
   ]
  },
  {
   "cell_type": "code",
   "execution_count": 74,
   "metadata": {},
   "outputs": [],
   "source": [
    "images_path = [os.path.join(folderpath, imagename) for imagename in os.listdir(folderpath) if imagename.endswith(\".tiff\")]\n",
    "images_path.sort()"
   ]
  },
  {
   "cell_type": "code",
   "execution_count": 75,
   "metadata": {},
   "outputs": [],
   "source": [
    "HH = []\n",
    "for path in images_path:\n",
    "    image = cv2.imread(path)\n",
    "    H = calculate_homography(image)\n",
    "    HH.append(H)"
   ]
  },
  {
   "cell_type": "markdown",
   "metadata": {},
   "source": [
    "2. per ogni omografia dalla relativa matrice costruire la matrice V + fare funzione che costruisce i vettori v, i, j"
   ]
  },
  {
   "cell_type": "code",
   "execution_count": 76,
   "metadata": {},
   "outputs": [],
   "source": [
    "def vij_function (H, i, j):\n",
    "  v=np.zeros(6)\n",
    "  v[0]=H[0][i]*H[0][j]\n",
    "  v[1]=H[0][i]*H[1][j]+H[1][i]*H[0][j]\n",
    "  v[2]=H[1][i]*H[1][j]\n",
    "  v[3]=H[2][i]*H[0][j]+H[0][i]*H[2][j]\n",
    "  v[4]=H[2][i]*H[1][j]+H[1][i]*H[2][j]\n",
    "  v[5]=H[2][i]*H[2][j]\n",
    "  return v"
   ]
  },
  {
   "cell_type": "code",
   "execution_count": 77,
   "metadata": {},
   "outputs": [
    {
     "name": "stdout",
     "output_type": "stream",
     "text": [
      "[[-2.13198825e-06  5.63903334e-06  2.09568388e-06  5.12549196e-10\n",
      "  -9.45018978e-10 -2.77412891e-14]\n",
      " [-4.68694420e-06 -8.54923765e-06  6.69908224e-06  1.60720707e-09\n",
      "   9.79675445e-10 -1.32207328e-13]]\n",
      "[[-1.06526004e-05 -1.37588766e-05  9.07240259e-06 -4.38326809e-09\n",
      "   7.63377199e-10 -2.11955853e-13]\n",
      " [ 1.20886053e-05 -3.95692999e-05 -1.52584212e-05 -2.36326391e-09\n",
      "  -8.80077951e-09 -7.26739011e-13]]\n",
      "[[-2.13944936e-06  2.17732965e-06  3.53923931e-06  1.65752629e-09\n",
      "  -1.54964443e-09 -2.90579021e-13]\n",
      " [-4.41770795e-07 -1.14503640e-05  5.09573919e-06  1.36881802e-09\n",
      "   4.05900856e-09 -4.70240903e-13]]\n",
      "[[-1.02637565e-05 -1.21275206e-05  8.90787695e-06 -2.89834687e-09\n",
      "  -2.98192578e-10 -1.64587134e-13]\n",
      " [ 1.09879517e-05 -3.83866705e-05 -1.31421909e-05  1.94842978e-10\n",
      "  -5.62406050e-09 -1.48689635e-13]]\n",
      "[[-1.24763542e-05 -3.32936609e-06  1.12964895e-05 -3.16967194e-09\n",
      "   1.76450123e-10 -1.93520179e-13]\n",
      " [ 1.68655121e-06 -4.76110144e-05 -4.82553955e-06 -8.21952511e-10\n",
      "  -6.13371064e-09 -1.30570323e-13]]\n",
      "[[-1.05686972e-07  7.30698883e-06  1.37788206e-06  1.45814644e-09\n",
      "  -5.11621920e-10 -1.54760505e-13]\n",
      " [-6.44795706e-06 -2.66596423e-06  8.09523709e-06  1.33235681e-09\n",
      "   3.54671099e-09  2.50772868e-13]]\n",
      "[[-2.19294036e-06  4.68569101e-06  2.98987079e-06  9.11804898e-10\n",
      "   1.07362873e-10 -4.15457868e-14]\n",
      " [-4.41530041e-06 -1.02647746e-05  4.94660207e-06 -1.03438492e-10\n",
      "   2.02834378e-09  1.05153334e-13]]\n",
      "[[-1.94127403e-06  8.50546363e-07  4.09087334e-06  1.56110968e-09\n",
      "   1.62838323e-09 -8.18731086e-14]\n",
      " [-1.47185051e-06 -1.15466945e-05 -5.72126583e-07 -1.68705182e-09\n",
      "   3.77769928e-09  7.40411410e-13]]\n",
      "[[-1.16022942e-05  9.79343944e-06  8.40972949e-06 -2.55475189e-09\n",
      "  -2.23486441e-09  1.21301202e-13]\n",
      " [-1.01905419e-05 -3.95633311e-05  9.31116212e-06  5.37207053e-09\n",
      "  -4.66013795e-09  4.84906569e-13]]\n",
      "[[-9.80261312e-06  1.63940106e-05  6.99591580e-06 -1.88194350e-09\n",
      "  -2.07829389e-09  1.50409240e-13]\n",
      " [-1.61599252e-05 -3.33743025e-05  1.63748030e-05  4.86060558e-09\n",
      "  -3.84199716e-09  2.18624405e-13]]\n",
      "[[-9.24607288e-06  1.60040880e-05  7.21001322e-06 -1.25536214e-09\n",
      "  -1.72066786e-09  9.67545689e-14]\n",
      " [-1.56020876e-05 -3.28252310e-05  1.62423211e-05  3.82252963e-09\n",
      "  -2.63309798e-09  9.62307187e-14]]\n",
      "[[ 5.05687519e-06 -5.77141123e-06 -4.91123379e-06  9.34845935e-10\n",
      "  -5.66954699e-10  4.31626398e-14]\n",
      " [ 6.51819019e-06  1.99651539e-05 -5.06265229e-06  1.27495711e-09\n",
      "   1.84867903e-09  6.22127163e-14]]\n",
      "[[ 4.85164259e-06 -6.82047771e-06 -4.40259494e-06  1.01614422e-09\n",
      "  -8.51117501e-11  3.86533400e-14]\n",
      " [ 7.43478684e-06  1.84914126e-05 -6.25103320e-06  2.18175216e-10\n",
      "   1.91352290e-09 -3.63857389e-14]]\n",
      "[[ 5.41797923e-06 -3.98371832e-06 -4.38591682e-06  3.29177659e-09\n",
      "   5.39350499e-10  3.50483149e-13]\n",
      " [ 6.39587517e-06  1.97566151e-05 -2.08576255e-06 -2.94511978e-10\n",
      "   5.47329330e-09 -5.03209808e-13]]\n",
      "[[ 1.38107347e-06  8.87320396e-06 -4.65788788e-06 -1.03325993e-09\n",
      "  -3.72431516e-09  1.91091286e-13]\n",
      " [-6.43974890e-06  1.04827277e-05  1.19559623e-05  5.37331299e-09\n",
      "  -4.02592240e-09 -1.11900970e-12]]\n",
      "[[-2.33949037e-06 -1.47890535e-05  8.68961058e-08 -3.04559927e-09\n",
      "   1.03614427e-09  2.20358623e-13]\n",
      " [ 1.32171170e-05 -5.24558050e-06 -1.60890038e-05 -2.97352522e-09\n",
      "  -6.95918226e-09 -6.90568098e-13]]\n",
      "[[ 3.06663059e-05  5.85213476e-04  2.15341052e-05  8.55179237e-08\n",
      "   9.02575941e-08  1.20934185e-11]\n",
      " [-5.94417950e-04  1.61600405e-05  5.71597880e-04 -1.69778426e-07\n",
      "   1.52069479e-07 -2.31538282e-12]]\n",
      "[[-6.13621750e-06 -3.96365718e-05 -1.02807910e-06 -1.49471950e-08\n",
      "  -3.06270407e-09 -9.87994497e-13]\n",
      " [ 4.18312438e-05 -9.11794016e-06 -3.64569497e-05  1.63387924e-09\n",
      "  -2.67069819e-08 -4.74528208e-12]]\n",
      "[[-5.09696811e-06  1.84200656e-05  4.02022941e-06 -1.08291114e-09\n",
      "  -6.13045917e-10  2.23842909e-14]\n",
      " [-1.86524835e-05 -1.81871825e-05  1.81514348e-05  1.35992467e-09\n",
      "  -2.14591752e-09  6.25501597e-14]]\n",
      "[[-1.23319535e-06 -3.69612275e-05 -2.55887513e-06 -3.16644662e-09\n",
      "  -8.50274768e-09 -6.50392878e-13]\n",
      " [ 3.78253200e-05  2.85320505e-06 -3.57293678e-05  1.68621178e-08\n",
      "  -4.44341970e-09  1.69898407e-12]]\n",
      "[[-2.13198825e-06  5.63903334e-06  2.09568388e-06  5.12549196e-10\n",
      "  -9.45018978e-10 -2.77412891e-14]\n",
      " [-4.68694420e-06 -8.54923765e-06  6.69908224e-06  1.60720707e-09\n",
      "   9.79675445e-10 -1.32207328e-13]\n",
      " [-1.06526004e-05 -1.37588766e-05  9.07240259e-06 -4.38326809e-09\n",
      "   7.63377199e-10 -2.11955853e-13]\n",
      " [ 1.20886053e-05 -3.95692999e-05 -1.52584212e-05 -2.36326391e-09\n",
      "  -8.80077951e-09 -7.26739011e-13]\n",
      " [-2.13944936e-06  2.17732965e-06  3.53923931e-06  1.65752629e-09\n",
      "  -1.54964443e-09 -2.90579021e-13]\n",
      " [-4.41770795e-07 -1.14503640e-05  5.09573919e-06  1.36881802e-09\n",
      "   4.05900856e-09 -4.70240903e-13]\n",
      " [-1.02637565e-05 -1.21275206e-05  8.90787695e-06 -2.89834687e-09\n",
      "  -2.98192578e-10 -1.64587134e-13]\n",
      " [ 1.09879517e-05 -3.83866705e-05 -1.31421909e-05  1.94842978e-10\n",
      "  -5.62406050e-09 -1.48689635e-13]\n",
      " [-1.24763542e-05 -3.32936609e-06  1.12964895e-05 -3.16967194e-09\n",
      "   1.76450123e-10 -1.93520179e-13]\n",
      " [ 1.68655121e-06 -4.76110144e-05 -4.82553955e-06 -8.21952511e-10\n",
      "  -6.13371064e-09 -1.30570323e-13]\n",
      " [-1.05686972e-07  7.30698883e-06  1.37788206e-06  1.45814644e-09\n",
      "  -5.11621920e-10 -1.54760505e-13]\n",
      " [-6.44795706e-06 -2.66596423e-06  8.09523709e-06  1.33235681e-09\n",
      "   3.54671099e-09  2.50772868e-13]\n",
      " [-2.19294036e-06  4.68569101e-06  2.98987079e-06  9.11804898e-10\n",
      "   1.07362873e-10 -4.15457868e-14]\n",
      " [-4.41530041e-06 -1.02647746e-05  4.94660207e-06 -1.03438492e-10\n",
      "   2.02834378e-09  1.05153334e-13]\n",
      " [-1.94127403e-06  8.50546363e-07  4.09087334e-06  1.56110968e-09\n",
      "   1.62838323e-09 -8.18731086e-14]\n",
      " [-1.47185051e-06 -1.15466945e-05 -5.72126583e-07 -1.68705182e-09\n",
      "   3.77769928e-09  7.40411410e-13]\n",
      " [-1.16022942e-05  9.79343944e-06  8.40972949e-06 -2.55475189e-09\n",
      "  -2.23486441e-09  1.21301202e-13]\n",
      " [-1.01905419e-05 -3.95633311e-05  9.31116212e-06  5.37207053e-09\n",
      "  -4.66013795e-09  4.84906569e-13]\n",
      " [-9.80261312e-06  1.63940106e-05  6.99591580e-06 -1.88194350e-09\n",
      "  -2.07829389e-09  1.50409240e-13]\n",
      " [-1.61599252e-05 -3.33743025e-05  1.63748030e-05  4.86060558e-09\n",
      "  -3.84199716e-09  2.18624405e-13]\n",
      " [-9.24607288e-06  1.60040880e-05  7.21001322e-06 -1.25536214e-09\n",
      "  -1.72066786e-09  9.67545689e-14]\n",
      " [-1.56020876e-05 -3.28252310e-05  1.62423211e-05  3.82252963e-09\n",
      "  -2.63309798e-09  9.62307187e-14]\n",
      " [ 5.05687519e-06 -5.77141123e-06 -4.91123379e-06  9.34845935e-10\n",
      "  -5.66954699e-10  4.31626398e-14]\n",
      " [ 6.51819019e-06  1.99651539e-05 -5.06265229e-06  1.27495711e-09\n",
      "   1.84867903e-09  6.22127163e-14]\n",
      " [ 4.85164259e-06 -6.82047771e-06 -4.40259494e-06  1.01614422e-09\n",
      "  -8.51117501e-11  3.86533400e-14]\n",
      " [ 7.43478684e-06  1.84914126e-05 -6.25103320e-06  2.18175216e-10\n",
      "   1.91352290e-09 -3.63857389e-14]\n",
      " [ 5.41797923e-06 -3.98371832e-06 -4.38591682e-06  3.29177659e-09\n",
      "   5.39350499e-10  3.50483149e-13]\n",
      " [ 6.39587517e-06  1.97566151e-05 -2.08576255e-06 -2.94511978e-10\n",
      "   5.47329330e-09 -5.03209808e-13]\n",
      " [ 1.38107347e-06  8.87320396e-06 -4.65788788e-06 -1.03325993e-09\n",
      "  -3.72431516e-09  1.91091286e-13]\n",
      " [-6.43974890e-06  1.04827277e-05  1.19559623e-05  5.37331299e-09\n",
      "  -4.02592240e-09 -1.11900970e-12]\n",
      " [-2.33949037e-06 -1.47890535e-05  8.68961058e-08 -3.04559927e-09\n",
      "   1.03614427e-09  2.20358623e-13]\n",
      " [ 1.32171170e-05 -5.24558050e-06 -1.60890038e-05 -2.97352522e-09\n",
      "  -6.95918226e-09 -6.90568098e-13]\n",
      " [ 3.06663059e-05  5.85213476e-04  2.15341052e-05  8.55179237e-08\n",
      "   9.02575941e-08  1.20934185e-11]\n",
      " [-5.94417950e-04  1.61600405e-05  5.71597880e-04 -1.69778426e-07\n",
      "   1.52069479e-07 -2.31538282e-12]\n",
      " [-6.13621750e-06 -3.96365718e-05 -1.02807910e-06 -1.49471950e-08\n",
      "  -3.06270407e-09 -9.87994497e-13]\n",
      " [ 4.18312438e-05 -9.11794016e-06 -3.64569497e-05  1.63387924e-09\n",
      "  -2.67069819e-08 -4.74528208e-12]\n",
      " [-5.09696811e-06  1.84200656e-05  4.02022941e-06 -1.08291114e-09\n",
      "  -6.13045917e-10  2.23842909e-14]\n",
      " [-1.86524835e-05 -1.81871825e-05  1.81514348e-05  1.35992467e-09\n",
      "  -2.14591752e-09  6.25501597e-14]\n",
      " [-1.23319535e-06 -3.69612275e-05 -2.55887513e-06 -3.16644662e-09\n",
      "  -8.50274768e-09 -6.50392878e-13]\n",
      " [ 3.78253200e-05  2.85320505e-06 -3.57293678e-05  1.68621178e-08\n",
      "  -4.44341970e-09  1.69898407e-12]]\n"
     ]
    }
   ],
   "source": [
    "VV=np.zeros((0,6))\n",
    "\n",
    "for H in HH:\n",
    "  v11=vij_function(H, 0, 0)\n",
    "  v12=vij_function(H, 0, 1)\n",
    "  v22=vij_function(H, 1, 1)\n",
    "  V=np.array([v12.T, (v11-v22).T])\n",
    "  print(V)\n",
    "  VV=np.vstack((VV, V))\n",
    "print(VV)"
   ]
  },
  {
   "cell_type": "markdown",
   "metadata": {},
   "source": [
    "3. data V trovare B applicando la singular value decomposition"
   ]
  },
  {
   "cell_type": "code",
   "execution_count": 81,
   "metadata": {},
   "outputs": [
    {
     "name": "stdout",
     "output_type": "stream",
     "text": [
      "[[-2.68175698e-07 -4.03041606e-10  1.66921125e-04]\n",
      " [-4.03041606e-10 -2.68961779e-07  1.33910848e-04]\n",
      " [ 1.66921125e-04  1.33910848e-04 -9.99999977e-01]]\n",
      "[-1.00000002e+00 -2.68265429e-07 -2.23077259e-07]\n"
     ]
    }
   ],
   "source": [
    "U, Sigma, S_T = np.linalg.svd(VV)\n",
    "b = S_T.transpose()[:, -1]\n",
    "B = np.empty((3, 3))\n",
    "B[0, 0] = b[0]\n",
    "B[0, 1] = B[1, 0] = b[1]\n",
    "B[1, 1] = b[2]\n",
    "B[0, 2] = B[2, 0] = b[3]\n",
    "B[2, 1] = B[1, 2] = b[4]\n",
    "B[2, 2] = b[5]\n",
    "print(B)\n",
    "eigvals, _ = np.linalg.eigh(B)\n",
    "print(eigvals)"
   ]
  },
  {
   "cell_type": "markdown",
   "metadata": {},
   "source": [
    "4. da B ottenere K e di conseguenza trovare R"
   ]
  },
  {
   "cell_type": "code",
   "execution_count": 79,
   "metadata": {},
   "outputs": [
    {
     "ename": "LinAlgError",
     "evalue": "Matrix is not positive definite",
     "output_type": "error",
     "traceback": [
      "\u001b[0;31m---------------------------------------------------------------------------\u001b[0m",
      "\u001b[0;31mLinAlgError\u001b[0m                               Traceback (most recent call last)",
      "Cell \u001b[0;32mIn[79], line 1\u001b[0m\n\u001b[0;32m----> 1\u001b[0m L \u001b[38;5;241m=\u001b[39m \u001b[43mnp\u001b[49m\u001b[38;5;241;43m.\u001b[39;49m\u001b[43mlinalg\u001b[49m\u001b[38;5;241;43m.\u001b[39;49m\u001b[43mcholesky\u001b[49m\u001b[43m(\u001b[49m\u001b[43mB\u001b[49m\u001b[43m)\u001b[49m\n\u001b[1;32m      2\u001b[0m K \u001b[38;5;241m=\u001b[39m np\u001b[38;5;241m.\u001b[39mlinalg\u001b[38;5;241m.\u001b[39minv(L\u001b[38;5;241m.\u001b[39mT) \n\u001b[1;32m      3\u001b[0m \u001b[38;5;66;03m# λ = 1/||K−1h1||\u001b[39;00m\n",
      "File \u001b[0;32m~/Desktop/ComputerVision/LabLecture1-EstimatingHomography/.venv/lib/python3.13/site-packages/numpy/linalg/_linalg.py:839\u001b[0m, in \u001b[0;36mcholesky\u001b[0;34m(a, upper)\u001b[0m\n\u001b[1;32m    836\u001b[0m signature \u001b[38;5;241m=\u001b[39m \u001b[38;5;124m'\u001b[39m\u001b[38;5;124mD->D\u001b[39m\u001b[38;5;124m'\u001b[39m \u001b[38;5;28;01mif\u001b[39;00m isComplexType(t) \u001b[38;5;28;01melse\u001b[39;00m \u001b[38;5;124m'\u001b[39m\u001b[38;5;124md->d\u001b[39m\u001b[38;5;124m'\u001b[39m\n\u001b[1;32m    837\u001b[0m \u001b[38;5;28;01mwith\u001b[39;00m errstate(call\u001b[38;5;241m=\u001b[39m_raise_linalgerror_nonposdef, invalid\u001b[38;5;241m=\u001b[39m\u001b[38;5;124m'\u001b[39m\u001b[38;5;124mcall\u001b[39m\u001b[38;5;124m'\u001b[39m,\n\u001b[1;32m    838\u001b[0m               over\u001b[38;5;241m=\u001b[39m\u001b[38;5;124m'\u001b[39m\u001b[38;5;124mignore\u001b[39m\u001b[38;5;124m'\u001b[39m, divide\u001b[38;5;241m=\u001b[39m\u001b[38;5;124m'\u001b[39m\u001b[38;5;124mignore\u001b[39m\u001b[38;5;124m'\u001b[39m, under\u001b[38;5;241m=\u001b[39m\u001b[38;5;124m'\u001b[39m\u001b[38;5;124mignore\u001b[39m\u001b[38;5;124m'\u001b[39m):\n\u001b[0;32m--> 839\u001b[0m     r \u001b[38;5;241m=\u001b[39m \u001b[43mgufunc\u001b[49m\u001b[43m(\u001b[49m\u001b[43ma\u001b[49m\u001b[43m,\u001b[49m\u001b[43m \u001b[49m\u001b[43msignature\u001b[49m\u001b[38;5;241;43m=\u001b[39;49m\u001b[43msignature\u001b[49m\u001b[43m)\u001b[49m\n\u001b[1;32m    840\u001b[0m \u001b[38;5;28;01mreturn\u001b[39;00m wrap(r\u001b[38;5;241m.\u001b[39mastype(result_t, copy\u001b[38;5;241m=\u001b[39m\u001b[38;5;28;01mFalse\u001b[39;00m))\n",
      "File \u001b[0;32m~/Desktop/ComputerVision/LabLecture1-EstimatingHomography/.venv/lib/python3.13/site-packages/numpy/linalg/_linalg.py:107\u001b[0m, in \u001b[0;36m_raise_linalgerror_nonposdef\u001b[0;34m(err, flag)\u001b[0m\n\u001b[1;32m    106\u001b[0m \u001b[38;5;28;01mdef\u001b[39;00m \u001b[38;5;21m_raise_linalgerror_nonposdef\u001b[39m(err, flag):\n\u001b[0;32m--> 107\u001b[0m     \u001b[38;5;28;01mraise\u001b[39;00m LinAlgError(\u001b[38;5;124m\"\u001b[39m\u001b[38;5;124mMatrix is not positive definite\u001b[39m\u001b[38;5;124m\"\u001b[39m)\n",
      "\u001b[0;31mLinAlgError\u001b[0m: Matrix is not positive definite"
     ]
    }
   ],
   "source": [
    "L = np.linalg.cholesky(B)\n",
    "K = np.linalg.inv(L.T) \n",
    "# λ = 1/||K−1h1||\n",
    "K_inv = np.linalg.inv(K)\n",
    "projections = []\n",
    "\n",
    "for i, H in enumerate(HH):\n",
    "    h1 = H[0, :]\n",
    "    h2 = H[1, :]\n",
    "    h3 = H[2, :]\n",
    "    lambdas = 1/np.linalg.norm(K_inv@h1)\n",
    "    r1 = lambdas * np.linalg.norm(K_inv@h1)\n",
    "    r2 = lambdas * np.linalg.norm(K_inv@h2)\n",
    "    t = lambdas * np.linalg.norm(K_inv@h3)\n",
    "    r3 = np.cross(r1, r2)\n",
    "    R = np.hstack((r1, r2, r3))\n",
    "    U, _ , V_t = np.linalg.svd(R)\n",
    "    R = U@V_t\n",
    "    P = K@np.hstack(R, t)\n",
    "\n"
   ]
  }
 ],
 "metadata": {
  "colab": {
   "provenance": [
    {
     "file_id": "1inylUtH6uv3r5d2xmKbAbhN2lcDTBxGl",
     "timestamp": 1697967174775
    }
   ]
  },
  "kernelspec": {
   "display_name": ".venv",
   "language": "python",
   "name": "python3"
  },
  "language_info": {
   "codemirror_mode": {
    "name": "ipython",
    "version": 3
   },
   "file_extension": ".py",
   "mimetype": "text/x-python",
   "name": "python",
   "nbconvert_exporter": "python",
   "pygments_lexer": "ipython3",
   "version": "3.13.1"
  }
 },
 "nbformat": 4,
 "nbformat_minor": 0
}
